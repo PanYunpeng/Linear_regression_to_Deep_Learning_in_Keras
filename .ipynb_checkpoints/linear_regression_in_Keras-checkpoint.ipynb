{
 "cells": [
  {
   "cell_type": "code",
   "execution_count": 40,
   "metadata": {
    "collapsed": false
   },
   "outputs": [],
   "source": [
    "%matplotlib inline\n",
    "import utils; reload(utils)\n",
    "from utils import *"
   ]
  },
  {
   "cell_type": "markdown",
   "metadata": {},
   "source": [
    "## Simple linear regression in terms of a neural network: x -> y"
   ]
  },
  {
   "cell_type": "code",
   "execution_count": 96,
   "metadata": {
    "collapsed": false
   },
   "outputs": [],
   "source": [
    "# indep variable\n",
    "x = np.array(range(30))/30."
   ]
  },
  {
   "cell_type": "code",
   "execution_count": 97,
   "metadata": {
    "collapsed": false
   },
   "outputs": [],
   "source": [
    "# noise \n",
    "d = random(30)\n",
    "# response + noise\n",
    "y = 1. + 2. * x + d "
   ]
  },
  {
   "cell_type": "code",
   "execution_count": 98,
   "metadata": {
    "collapsed": false
   },
   "outputs": [
    {
     "data": {
      "text/plain": [
       "[<matplotlib.lines.Line2D at 0x11b67f890>]"
      ]
     },
     "execution_count": 98,
     "metadata": {},
     "output_type": "execute_result"
    },
    {
     "data": {
      "image/png": "[encoded data removed]",
      "text/plain": [
       "<matplotlib.figure.Figure at 0x11b612e90>"
      ]
     },
     "metadata": {},
     "output_type": "display_data"
    }
   ],
   "source": [
    "plt.plot(x,y)"
   ]
  },
  {
   "cell_type": "code",
   "execution_count": 108,
   "metadata": {
    "collapsed": false
   },
   "outputs": [
    {
     "name": "stdout",
     "output_type": "stream",
     "text": [
      "____________________________________________________________________________________________________\n",
      "Layer (type)                     Output Shape          Param #     Connected to                     \n",
      "====================================================================================================\n",
      "dense_input_13 (InputLayer)      (None, 1)             0                                            \n",
      "____________________________________________________________________________________________________\n",
      "dense_13 (Dense)                 (None, 1)             2           dense_input_13[0][0]             \n",
      "====================================================================================================\n",
      "Total params: 2\n",
      "Trainable params: 2\n",
      "Non-trainable params: 0\n",
      "____________________________________________________________________________________________________\n"
     ]
    }
   ],
   "source": [
    "# build model: one (dense) layer nn, 1 output node, 1 input node\n",
    "lm = Sequential([Dense(1, input_shape=(1,))])\n",
    "# Use stochastic gradient descent (SGD) and Mean Squared Error (MSE) as loss function\n",
    "lm.compile(optimizer=SGD(lr=0.01), loss='mse') \n",
    "lm.model.summary()"
   ]
  },
  {
   "cell_type": "code",
   "execution_count": 109,
   "metadata": {
    "collapsed": false
   },
   "outputs": [
    {
     "data": {
      "text/plain": [
       "4.1445493698120117"
      ]
     },
     "execution_count": 109,
     "metadata": {},
     "output_type": "execute_result"
    }
   ],
   "source": [
    "lm.evaluate(x, y, verbose=0)"
   ]
  },
  {
   "cell_type": "code",
   "execution_count": 110,
   "metadata": {
    "collapsed": false
   },
   "outputs": [
    {
     "name": "stdout",
     "output_type": "stream",
     "text": [
      "Epoch 1/80\n",
      "30/30 [==============================] - 0s - loss: 4.1445\n",
      "Epoch 2/80\n",
      "30/30 [==============================] - 0s - loss: 3.9434\n",
      "Epoch 3/80\n",
      "30/30 [==============================] - 0s - loss: 3.7522\n",
      "Epoch 4/80\n",
      "30/30 [==============================] - 0s - loss: 3.5704\n",
      "Epoch 5/80\n",
      "30/30 [==============================] - 0s - loss: 3.3976\n",
      "Epoch 6/80\n",
      "30/30 [==============================] - 0s - loss: 3.2333\n",
      "Epoch 7/80\n",
      "30/30 [==============================] - 0s - loss: 3.0772\n",
      "Epoch 8/80\n",
      "30/30 [==============================] - 0s - loss: 2.9287\n",
      "Epoch 9/80\n",
      "30/30 [==============================] - 0s - loss: 2.7876\n",
      "Epoch 10/80\n",
      "30/30 [==============================] - 0s - loss: 2.6535\n",
      "Epoch 11/80\n",
      "30/30 [==============================] - 0s - loss: 2.5260\n",
      "Epoch 12/80\n",
      "30/30 [==============================] - 0s - loss: 2.4047\n",
      "Epoch 13/80\n",
      "30/30 [==============================] - 0s - loss: 2.2895\n",
      "Epoch 14/80\n",
      "30/30 [==============================] - 0s - loss: 2.1800\n",
      "Epoch 15/80\n",
      "30/30 [==============================] - 0s - loss: 2.0758\n",
      "Epoch 16/80\n",
      "30/30 [==============================] - 0s - loss: 1.9768\n",
      "Epoch 17/80\n",
      "30/30 [==============================] - 0s - loss: 1.8827\n",
      "Epoch 18/80\n",
      "30/30 [==============================] - 0s - loss: 1.7933\n",
      "Epoch 19/80\n",
      "30/30 [==============================] - 0s - loss: 1.7082\n",
      "Epoch 20/80\n",
      "30/30 [==============================] - 0s - loss: 1.6274\n",
      "Epoch 21/80\n",
      "30/30 [==============================] - 0s - loss: 1.5506\n",
      "Epoch 22/80\n",
      "30/30 [==============================] - 0s - loss: 1.4775\n",
      "Epoch 23/80\n",
      "30/30 [==============================] - 0s - loss: 1.4081\n",
      "Epoch 24/80\n",
      "30/30 [==============================] - 0s - loss: 1.3421\n",
      "Epoch 25/80\n",
      "30/30 [==============================] - 0s - loss: 1.2793\n",
      "Epoch 26/80\n",
      "30/30 [==============================] - 0s - loss: 1.2197\n",
      "Epoch 27/80\n",
      "30/30 [==============================] - 0s - loss: 1.1629\n",
      "Epoch 28/80\n",
      "30/30 [==============================] - 0s - loss: 1.1090\n",
      "Epoch 29/80\n",
      "30/30 [==============================] - 0s - loss: 1.0578\n",
      "Epoch 30/80\n",
      "30/30 [==============================] - 0s - loss: 1.0091\n",
      "Epoch 31/80\n",
      "30/30 [==============================] - 0s - loss: 0.9628\n",
      "Epoch 32/80\n",
      "30/30 [==============================] - 0s - loss: 0.9187\n",
      "Epoch 33/80\n",
      "30/30 [==============================] - 0s - loss: 0.8769\n",
      "Epoch 34/80\n",
      "30/30 [==============================] - 0s - loss: 0.8371\n",
      "Epoch 35/80\n",
      "30/30 [==============================] - 0s - loss: 0.7993\n",
      "Epoch 36/80\n",
      "30/30 [==============================] - 0s - loss: 0.7633\n",
      "Epoch 37/80\n",
      "30/30 [==============================] - 0s - loss: 0.7292\n",
      "Epoch 38/80\n",
      "30/30 [==============================] - 0s - loss: 0.6967\n",
      "Epoch 39/80\n",
      "30/30 [==============================] - 0s - loss: 0.6658\n",
      "Epoch 40/80\n",
      "30/30 [==============================] - 0s - loss: 0.6364\n",
      "Epoch 41/80\n",
      "30/30 [==============================] - 0s - loss: 0.6085\n",
      "Epoch 42/80\n",
      "30/30 [==============================] - 0s - loss: 0.5820\n",
      "Epoch 43/80\n",
      "30/30 [==============================] - 0s - loss: 0.5568\n",
      "Epoch 44/80\n",
      "30/30 [==============================] - 0s - loss: 0.5328\n",
      "Epoch 45/80\n",
      "30/30 [==============================] - 0s - loss: 0.5100\n",
      "Epoch 46/80\n",
      "30/30 [==============================] - 0s - loss: 0.4884\n",
      "Epoch 47/80\n",
      "30/30 [==============================] - 0s - loss: 0.4678\n",
      "Epoch 48/80\n",
      "30/30 [==============================] - 0s - loss: 0.4482\n",
      "Epoch 49/80\n",
      "30/30 [==============================] - 0s - loss: 0.4296\n",
      "Epoch 50/80\n",
      "30/30 [==============================] - 0s - loss: 0.4119\n",
      "Epoch 51/80\n",
      "30/30 [==============================] - 0s - loss: 0.3951\n",
      "Epoch 52/80\n",
      "30/30 [==============================] - 0s - loss: 0.3791\n",
      "Epoch 53/80\n",
      "30/30 [==============================] - 0s - loss: 0.3639\n",
      "Epoch 54/80\n",
      "30/30 [==============================] - 0s - loss: 0.3494\n",
      "Epoch 55/80\n",
      "30/30 [==============================] - 0s - loss: 0.3357\n",
      "Epoch 56/80\n",
      "30/30 [==============================] - 0s - loss: 0.3226\n",
      "Epoch 57/80\n",
      "30/30 [==============================] - 0s - loss: 0.3102\n",
      "Epoch 58/80\n",
      "30/30 [==============================] - 0s - loss: 0.2984\n",
      "Epoch 59/80\n",
      "30/30 [==============================] - 0s - loss: 0.2872\n",
      "Epoch 60/80\n",
      "30/30 [==============================] - 0s - loss: 0.2766\n",
      "Epoch 61/80\n",
      "30/30 [==============================] - 0s - loss: 0.2664\n",
      "Epoch 62/80\n",
      "30/30 [==============================] - 0s - loss: 0.2568\n",
      "Epoch 63/80\n",
      "30/30 [==============================] - 0s - loss: 0.2476\n",
      "Epoch 64/80\n",
      "30/30 [==============================] - 0s - loss: 0.2389\n",
      "Epoch 65/80\n",
      "30/30 [==============================] - 0s - loss: 0.2306\n",
      "Epoch 66/80\n",
      "30/30 [==============================] - 0s - loss: 0.2228\n",
      "Epoch 67/80\n",
      "30/30 [==============================] - 0s - loss: 0.2153\n",
      "Epoch 68/80\n",
      "30/30 [==============================] - 0s - loss: 0.2082\n",
      "Epoch 69/80\n",
      "30/30 [==============================] - 0s - loss: 0.2014\n",
      "Epoch 70/80\n",
      "30/30 [==============================] - 0s - loss: 0.1950\n",
      "Epoch 71/80\n",
      "30/30 [==============================] - 0s - loss: 0.1889\n",
      "Epoch 72/80\n",
      "30/30 [==============================] - 0s - loss: 0.1831\n",
      "Epoch 73/80\n",
      "30/30 [==============================] - 0s - loss: 0.1776\n",
      "Epoch 74/80\n",
      "30/30 [==============================] - 0s - loss: 0.1723\n",
      "Epoch 75/80\n",
      "30/30 [==============================] - 0s - loss: 0.1673\n",
      "Epoch 76/80\n",
      "30/30 [==============================] - 0s - loss: 0.1626\n",
      "Epoch 77/80\n",
      "30/30 [==============================] - 0s - loss: 0.1581\n",
      "Epoch 78/80\n",
      "30/30 [==============================] - 0s - loss: 0.1538\n",
      "Epoch 79/80\n",
      "30/30 [==============================] - 0s - loss: 0.1497\n",
      "Epoch 80/80\n",
      "30/30 [==============================] - 0s - loss: 0.1458\n"
     ]
    },
    {
     "data": {
      "text/plain": [
       "<keras.callbacks.History at 0x11bcd0ad0>"
      ]
     },
     "execution_count": 110,
     "metadata": {},
     "output_type": "execute_result"
    }
   ],
   "source": [
    "lm.fit(x, y, nb_epoch=80, batch_size=30)"
   ]
  },
  {
   "cell_type": "code",
   "execution_count": 111,
   "metadata": {
    "collapsed": false
   },
   "outputs": [],
   "source": [
    "a = lm.get_weights()[1][0]; b = lm.get_weights()[0][0][0]"
   ]
  },
  {
   "cell_type": "code",
   "execution_count": 115,
   "metadata": {
    "collapsed": false
   },
   "outputs": [
    {
     "data": {
      "text/plain": [
       "<matplotlib.figure.Figure at 0x11c12d290>"
      ]
     },
     "metadata": {},
     "output_type": "display_data"
    }
   ],
   "source": [
    "fig = plt.figure(dpi=100, figsize=(5,4))"
   ]
  },
  {
   "cell_type": "code",
   "execution_count": 116,
   "metadata": {
    "collapsed": false
   },
   "outputs": [
    {
     "data": {
      "text/plain": [
       "<matplotlib.collections.PathCollection at 0x11c1cdad0>"
      ]
     },
     "execution_count": 116,
     "metadata": {},
     "output_type": "execute_result"
    },
    {
     "data": {
      "image/png": "[encoded data removed]",
      "text/plain": [
       "<matplotlib.figure.Figure at 0x11c12dd90>"
      ]
     },
     "metadata": {},
     "output_type": "display_data"
    }
   ],
   "source": [
    "plt.scatter(x,y)"
   ]
  },
  {
   "cell_type": "code",
   "execution_count": 117,
   "metadata": {
    "collapsed": true
   },
   "outputs": [],
   "source": [
    "def lin(a,b,x): return a + b * x"
   ]
  },
  {
   "cell_type": "code",
   "execution_count": 118,
   "metadata": {
    "collapsed": false
   },
   "outputs": [
    {
     "data": {
      "text/plain": [
       "[<matplotlib.lines.Line2D at 0x11c32e1d0>]"
      ]
     },
     "execution_count": 118,
     "metadata": {},
     "output_type": "execute_result"
    },
    {
     "data": {
      "image/png": "[encoded data removed]",
      "text/plain": [
       "<matplotlib.figure.Figure at 0x11c1e6b90>"
      ]
     },
     "metadata": {},
     "output_type": "display_data"
    }
   ],
   "source": [
    "plt.plot(x, lin(a, b, x))"
   ]
  },
  {
   "cell_type": "code",
   "execution_count": null,
   "metadata": {
    "collapsed": false
   },
   "outputs": [],
   "source": []
  },
  {
   "cell_type": "code",
   "execution_count": null,
   "metadata": {
    "collapsed": true
   },
   "outputs": [],
   "source": []
  },
  {
   "cell_type": "code",
   "execution_count": null,
   "metadata": {
    "collapsed": true
   },
   "outputs": [],
   "source": []
  },
  {
   "cell_type": "markdown",
   "metadata": {},
   "source": [
    "## Multiple linear regression: (x1, x2) -> y"
   ]
  },
  {
   "cell_type": "code",
   "execution_count": 84,
   "metadata": {
    "collapsed": false
   },
   "outputs": [],
   "source": [
    "# 30 by 2 matrix containing x1 and x2 in its two columns\n",
    "x = np.transpose(np.array((range(30), range(30)))/30.)"
   ]
  },
  {
   "cell_type": "code",
   "execution_count": 85,
   "metadata": {
    "collapsed": false
   },
   "outputs": [],
   "source": [
    "# Add a small perturbation over perfect linear relationship bwn indep vars (x1,x2) and the response (y)\n",
    "d = random(30)/30000.\n",
    "# Response variable\n",
    "y = np.matmul(x, [2., 3.]) + 1. + d"
   ]
  },
  {
   "cell_type": "code",
   "execution_count": 86,
   "metadata": {
    "collapsed": false
   },
   "outputs": [
    {
     "data": {
      "text/plain": [
       "array([[ 0.    ,  0.    ],\n",
       "       [ 0.0333,  0.0333],\n",
       "       [ 0.0667,  0.0667],\n",
       "       [ 0.1   ,  0.1   ],\n",
       "       [ 0.1333,  0.1333]])"
      ]
     },
     "execution_count": 86,
     "metadata": {},
     "output_type": "execute_result"
    }
   ],
   "source": [
    "x[:5]"
   ]
  },
  {
   "cell_type": "code",
   "execution_count": 87,
   "metadata": {
    "collapsed": true
   },
   "outputs": [],
   "source": [
    "# Set up 1-layer neural network, 1 output and 2 input neurons\n",
    "lm2 = Sequential([Dense(1, input_shape=(2,))])\n",
    "# Use stochastic gradient descent (SGD),  and mean squared error (MSE) loss; MSE is *terrible* loss fn for optimization\n",
    "lm2.compile(optimizer=SGD(lr=0.1), loss='mse')"
   ]
  },
  {
   "cell_type": "code",
   "execution_count": 88,
   "metadata": {
    "collapsed": false
   },
   "outputs": [
    {
     "data": {
      "text/plain": [
       "16.941568374633789"
      ]
     },
     "execution_count": 88,
     "metadata": {},
     "output_type": "execute_result"
    }
   ],
   "source": [
    "lm2.evaluate(x, y, verbose=0)"
   ]
  },
  {
   "cell_type": "code",
   "execution_count": 89,
   "metadata": {
    "collapsed": false
   },
   "outputs": [
    {
     "name": "stdout",
     "output_type": "stream",
     "text": [
      "Epoch 1/80\n",
      "30/30 [==============================] - 0s - loss: 16.9416\n",
      "Epoch 2/80\n",
      "30/30 [==============================] - 0s - loss: 8.5367\n",
      "Epoch 3/80\n",
      "30/30 [==============================] - 0s - loss: 4.4606\n",
      "Epoch 4/80\n",
      "30/30 [==============================] - 0s - loss: 2.4767\n",
      "Epoch 5/80\n",
      "30/30 [==============================] - 0s - loss: 1.5042\n",
      "Epoch 6/80\n",
      "30/30 [==============================] - 0s - loss: 1.0211\n",
      "Epoch 7/80\n",
      "30/30 [==============================] - 0s - loss: 0.7749\n",
      "Epoch 8/80\n",
      "30/30 [==============================] - 0s - loss: 0.6438\n",
      "Epoch 9/80\n",
      "30/30 [==============================] - 0s - loss: 0.5688\n",
      "Epoch 10/80\n",
      "30/30 [==============================] - 0s - loss: 0.5215\n",
      "Epoch 11/80\n",
      "30/30 [==============================] - 0s - loss: 0.4879\n",
      "Epoch 12/80\n",
      "30/30 [==============================] - 0s - loss: 0.4615\n",
      "Epoch 13/80\n",
      "30/30 [==============================] - 0s - loss: 0.4390\n",
      "Epoch 14/80\n",
      "30/30 [==============================] - 0s - loss: 0.4188\n",
      "Epoch 15/80\n",
      "30/30 [==============================] - 0s - loss: 0.4001\n",
      "Epoch 16/80\n",
      "30/30 [==============================] - 0s - loss: 0.3825\n",
      "Epoch 17/80\n",
      "30/30 [==============================] - 0s - loss: 0.3659\n",
      "Epoch 18/80\n",
      "30/30 [==============================] - 0s - loss: 0.3500\n",
      "Epoch 19/80\n",
      "30/30 [==============================] - 0s - loss: 0.3348\n",
      "Epoch 20/80\n",
      "30/30 [==============================] - 0s - loss: 0.3204\n",
      "Epoch 21/80\n",
      "30/30 [==============================] - 0s - loss: 0.3065\n",
      "Epoch 22/80\n",
      "30/30 [==============================] - 0s - loss: 0.2933\n",
      "Epoch 23/80\n",
      "30/30 [==============================] - 0s - loss: 0.2806\n",
      "Epoch 24/80\n",
      "30/30 [==============================] - 0s - loss: 0.2685\n",
      "Epoch 25/80\n",
      "30/30 [==============================] - 0s - loss: 0.2569\n",
      "Epoch 26/80\n",
      "30/30 [==============================] - 0s - loss: 0.2458\n",
      "Epoch 27/80\n",
      "30/30 [==============================] - 0s - loss: 0.2351\n",
      "Epoch 28/80\n",
      "30/30 [==============================] - 0s - loss: 0.2250\n",
      "Epoch 29/80\n",
      "30/30 [==============================] - 0s - loss: 0.2153\n",
      "Epoch 30/80\n",
      "30/30 [==============================] - 0s - loss: 0.2060\n",
      "Epoch 31/80\n",
      "30/30 [==============================] - 0s - loss: 0.1971\n",
      "Epoch 32/80\n",
      "30/30 [==============================] - 0s - loss: 0.1886\n",
      "Epoch 33/80\n",
      "30/30 [==============================] - 0s - loss: 0.1804\n",
      "Epoch 34/80\n",
      "30/30 [==============================] - 0s - loss: 0.1726\n",
      "Epoch 35/80\n",
      "30/30 [==============================] - 0s - loss: 0.1652\n",
      "Epoch 36/80\n",
      "30/30 [==============================] - 0s - loss: 0.1580\n",
      "Epoch 37/80\n",
      "30/30 [==============================] - 0s - loss: 0.1512\n",
      "Epoch 38/80\n",
      "30/30 [==============================] - 0s - loss: 0.1447\n",
      "Epoch 39/80\n",
      "30/30 [==============================] - 0s - loss: 0.1384\n",
      "Epoch 40/80\n",
      "30/30 [==============================] - 0s - loss: 0.1324\n",
      "Epoch 41/80\n",
      "30/30 [==============================] - 0s - loss: 0.1267\n",
      "Epoch 42/80\n",
      "30/30 [==============================] - 0s - loss: 0.1212\n",
      "Epoch 43/80\n",
      "30/30 [==============================] - 0s - loss: 0.1160\n",
      "Epoch 44/80\n",
      "30/30 [==============================] - 0s - loss: 0.1110\n",
      "Epoch 45/80\n",
      "30/30 [==============================] - 0s - loss: 0.1062\n",
      "Epoch 46/80\n",
      "30/30 [==============================] - 0s - loss: 0.1016\n",
      "Epoch 47/80\n",
      "30/30 [==============================] - 0s - loss: 0.0972\n",
      "Epoch 48/80\n",
      "30/30 [==============================] - 0s - loss: 0.0930\n",
      "Epoch 49/80\n",
      "30/30 [==============================] - 0s - loss: 0.0890\n",
      "Epoch 50/80\n",
      "30/30 [==============================] - 0s - loss: 0.0851\n",
      "Epoch 51/80\n",
      "30/30 [==============================] - 0s - loss: 0.0815\n",
      "Epoch 52/80\n",
      "30/30 [==============================] - 0s - loss: 0.0780\n",
      "Epoch 53/80\n",
      "30/30 [==============================] - 0s - loss: 0.0746\n",
      "Epoch 54/80\n",
      "30/30 [==============================] - 0s - loss: 0.0714\n",
      "Epoch 55/80\n",
      "30/30 [==============================] - 0s - loss: 0.0683\n",
      "Epoch 56/80\n",
      "30/30 [==============================] - 0s - loss: 0.0653\n",
      "Epoch 57/80\n",
      "30/30 [==============================] - 0s - loss: 0.0625\n",
      "Epoch 58/80\n",
      "30/30 [==============================] - 0s - loss: 0.0598\n",
      "Epoch 59/80\n",
      "30/30 [==============================] - 0s - loss: 0.0572\n",
      "Epoch 60/80\n",
      "30/30 [==============================] - 0s - loss: 0.0547\n",
      "Epoch 61/80\n",
      "30/30 [==============================] - 0s - loss: 0.0524\n",
      "Epoch 62/80\n",
      "30/30 [==============================] - 0s - loss: 0.0501\n",
      "Epoch 63/80\n",
      "30/30 [==============================] - 0s - loss: 0.0480\n",
      "Epoch 64/80\n",
      "30/30 [==============================] - 0s - loss: 0.0459\n",
      "Epoch 65/80\n",
      "30/30 [==============================] - 0s - loss: 0.0439\n",
      "Epoch 66/80\n",
      "30/30 [==============================] - 0s - loss: 0.0420\n",
      "Epoch 67/80\n",
      "30/30 [==============================] - 0s - loss: 0.0402\n",
      "Epoch 68/80\n",
      "30/30 [==============================] - 0s - loss: 0.0385\n",
      "Epoch 69/80\n",
      "30/30 [==============================] - 0s - loss: 0.0368\n",
      "Epoch 70/80\n",
      "30/30 [==============================] - 0s - loss: 0.0352\n",
      "Epoch 71/80\n",
      "30/30 [==============================] - 0s - loss: 0.0337\n",
      "Epoch 72/80\n",
      "30/30 [==============================] - 0s - loss: 0.0322\n",
      "Epoch 73/80\n",
      "30/30 [==============================] - 0s - loss: 0.0308\n",
      "Epoch 74/80\n",
      "30/30 [==============================] - 0s - loss: 0.0295\n",
      "Epoch 75/80\n",
      "30/30 [==============================] - 0s - loss: 0.0282\n",
      "Epoch 76/80\n",
      "30/30 [==============================] - 0s - loss: 0.0270\n",
      "Epoch 77/80\n",
      "30/30 [==============================] - 0s - loss: 0.0258\n",
      "Epoch 78/80\n",
      "30/30 [==============================] - 0s - loss: 0.0247\n",
      "Epoch 79/80\n",
      "30/30 [==============================] - 0s - loss: 0.0237\n",
      "Epoch 80/80\n",
      "30/30 [==============================] - 0s - loss: 0.0226\n",
      "CPU times: user 391 ms, sys: 67.2 ms, total: 458 ms\n",
      "Wall time: 419 ms\n"
     ]
    },
    {
     "data": {
      "text/plain": [
       "<keras.callbacks.History at 0x11b4d5ad0>"
      ]
     },
     "execution_count": 89,
     "metadata": {},
     "output_type": "execute_result"
    }
   ],
   "source": [
    "%time lm2.fit(x, y, nb_epoch=80, batch_size=900)"
   ]
  },
  {
   "cell_type": "code",
   "execution_count": 90,
   "metadata": {
    "collapsed": false
   },
   "outputs": [
    {
     "data": {
      "text/plain": [
       "0.021655784919857979"
      ]
     },
     "execution_count": 90,
     "metadata": {},
     "output_type": "execute_result"
    }
   ],
   "source": [
    "lm2.evaluate(x, y, verbose=0)"
   ]
  },
  {
   "cell_type": "code",
   "execution_count": 91,
   "metadata": {
    "collapsed": false
   },
   "outputs": [
    {
     "data": {
      "text/plain": [
       "[array([[ 2.2062],\n",
       "        [ 2.2942]], dtype=float32), array([ 1.2711], dtype=float32)]"
      ]
     },
     "execution_count": 91,
     "metadata": {},
     "output_type": "execute_result"
    }
   ],
   "source": [
    "lm2.get_weights() # MSE cannot get the fitting parameters right"
   ]
  },
  {
   "cell_type": "code",
   "execution_count": 53,
   "metadata": {
    "collapsed": false
   },
   "outputs": [],
   "source": [
    "??get_data"
   ]
  },
  {
   "cell_type": "code",
   "execution_count": 19,
   "metadata": {
    "collapsed": true
   },
   "outputs": [],
   "source": [
    "??get_batches"
   ]
  },
  {
   "cell_type": "code",
   "execution_count": 20,
   "metadata": {
    "collapsed": false
   },
   "outputs": [
    {
     "name": "stdout",
     "output_type": "stream",
     "text": [
      "Object `gen.flow_from_directory` not found.\n"
     ]
    }
   ],
   "source": [
    "??gen.flow_from_directory"
   ]
  },
  {
   "cell_type": "code",
   "execution_count": 21,
   "metadata": {
    "collapsed": false
   },
   "outputs": [
    {
     "name": "stdout",
     "output_type": "stream",
     "text": [
      "____________________________________________________________________________________________________\n",
      "Layer (type)                     Output Shape          Param #     Connected to                     \n",
      "====================================================================================================\n",
      "dense_input_2 (InputLayer)       (None, 2)             0                                            \n",
      "____________________________________________________________________________________________________\n",
      "dense_2 (Dense)                  (None, 1)             3           dense_input_2[0][0]              \n",
      "====================================================================================================\n",
      "Total params: 3\n",
      "Trainable params: 3\n",
      "Non-trainable params: 0\n",
      "____________________________________________________________________________________________________\n"
     ]
    }
   ],
   "source": [
    "lm.model.summary()"
   ]
  },
  {
   "cell_type": "code",
   "execution_count": 58,
   "metadata": {
    "collapsed": true
   },
   "outputs": [],
   "source": [
    "theano.config.floatX = 'float32'"
   ]
  },
  {
   "cell_type": "code",
   "execution_count": null,
   "metadata": {
    "collapsed": true
   },
   "outputs": [],
   "source": []
  }
 ],
 "metadata": {
  "kernelspec": {
   "display_name": "Python 2",
   "language": "python",
   "name": "python2"
  },
  "language_info": {
   "codemirror_mode": {
    "name": "ipython",
    "version": 2
   },
   "file_extension": ".py",
   "mimetype": "text/x-python",
   "name": "python",
   "nbconvert_exporter": "python",
   "pygments_lexer": "ipython2",
   "version": "2.7.13"
  }
 },
 "nbformat": 4,
 "nbformat_minor": 2
}
