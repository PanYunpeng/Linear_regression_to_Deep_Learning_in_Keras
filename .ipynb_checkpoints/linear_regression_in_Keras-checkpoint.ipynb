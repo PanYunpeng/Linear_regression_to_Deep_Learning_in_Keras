{
 "cells": [
  {
   "cell_type": "code",
   "execution_count": 1,
   "metadata": {
    "collapsed": false
   },
   "outputs": [
    {
     "name": "stderr",
     "output_type": "stream",
     "text": [
      "Using Theano backend.\n"
     ]
    }
   ],
   "source": [
    "%matplotlib inline\n",
    "import utils; reload(utils)\n",
    "from utils import *"
   ]
  },
  {
   "cell_type": "markdown",
   "metadata": {},
   "source": [
    "## Simple linear regression in terms of a neural network: x -> y"
   ]
  },
  {
   "cell_type": "code",
   "execution_count": 2,
   "metadata": {
    "collapsed": false
   },
   "outputs": [],
   "source": [
    "# indep variable\n",
    "x = np.array(range(30))/30."
   ]
  },
  {
   "cell_type": "code",
   "execution_count": 3,
   "metadata": {
    "collapsed": false
   },
   "outputs": [],
   "source": [
    "# noise \n",
    "d = random(30)\n",
    "# response + noise\n",
    "y = 1. + 2. * x + d "
   ]
  },
  {
   "cell_type": "code",
   "execution_count": 4,
   "metadata": {
    "collapsed": false
   },
   "outputs": [
    {
     "data": {
      "text/plain": [
       "[<matplotlib.lines.Line2D at 0x111c9be10>]"
      ]
     },
     "execution_count": 4,
     "metadata": {},
     "output_type": "execute_result"
    },
    {
     "data": {
      "image/png": "[encoded data removed]",
      "text/plain": [
       "<matplotlib.figure.Figure at 0x10f671d10>"
      ]
     },
     "metadata": {},
     "output_type": "display_data"
    }
   ],
   "source": [
    "plt.plot(x,y)"
   ]
  },
  {
   "cell_type": "code",
   "execution_count": 5,
   "metadata": {
    "collapsed": false
   },
   "outputs": [
    {
     "name": "stdout",
     "output_type": "stream",
     "text": [
      "____________________________________________________________________________________________________\n",
      "Layer (type)                     Output Shape          Param #     Connected to                     \n",
      "====================================================================================================\n",
      "dense_input_1 (InputLayer)       (None, 1)             0                                            \n",
      "____________________________________________________________________________________________________\n",
      "dense_1 (Dense)                  (None, 1)             2           dense_input_1[0][0]              \n",
      "====================================================================================================\n",
      "Total params: 2\n",
      "Trainable params: 2\n",
      "Non-trainable params: 0\n",
      "____________________________________________________________________________________________________\n"
     ]
    }
   ],
   "source": [
    "# build model: one (dense) layer nn, 1 output node, 1 input node\n",
    "lm = Sequential([Dense(1, input_shape=(1,))])\n",
    "# use Mean Squared error as loss function, and stochastic gradient descent\n",
    "lm.compile(optimizer=SGD(lr=0.1), loss='mse') \n",
    "lm.model.summary()"
   ]
  },
  {
   "cell_type": "code",
   "execution_count": 6,
   "metadata": {
    "collapsed": false
   },
   "outputs": [
    {
     "data": {
      "text/plain": [
       "4.515648365020752"
      ]
     },
     "execution_count": 6,
     "metadata": {},
     "output_type": "execute_result"
    }
   ],
   "source": [
    "lm.evaluate(x, y, verbose=0)"
   ]
  },
  {
   "cell_type": "code",
   "execution_count": 7,
   "metadata": {
    "collapsed": false
   },
   "outputs": [
    {
     "name": "stdout",
     "output_type": "stream",
     "text": [
      "Epoch 1/8\n",
      "30/30 [==============================] - 0s - loss: 4.5156\n",
      "Epoch 2/8\n",
      "30/30 [==============================] - 0s - loss: 2.5838\n",
      "Epoch 3/8\n",
      "30/30 [==============================] - 0s - loss: 1.4970\n",
      "Epoch 4/8\n",
      "30/30 [==============================] - 0s - loss: 0.8854\n",
      "Epoch 5/8\n",
      "30/30 [==============================] - 0s - loss: 0.5411\n",
      "Epoch 6/8\n",
      "30/30 [==============================] - 0s - loss: 0.3472\n",
      "Epoch 7/8\n",
      "30/30 [==============================] - 0s - loss: 0.2378\n",
      "Epoch 8/8\n",
      "30/30 [==============================] - 0s - loss: 0.1760\n"
     ]
    },
    {
     "data": {
      "text/plain": [
       "<keras.callbacks.History at 0x11277a690>"
      ]
     },
     "execution_count": 7,
     "metadata": {},
     "output_type": "execute_result"
    }
   ],
   "source": [
    "lm.fit(x, y, nb_epoch=8, batch_size=30)"
   ]
  },
  {
   "cell_type": "markdown",
   "metadata": {},
   "source": [
    "## Multiple linear regression: (x1, x2) -> y"
   ]
  },
  {
   "cell_type": "code",
   "execution_count": 104,
   "metadata": {
    "collapsed": false
   },
   "outputs": [],
   "source": [
    "# 30 by 2 matrix containing x1 and x2 in its two columns\n",
    "x = np.transpose(np.array((range(30), range(30)))/30.)"
   ]
  },
  {
   "cell_type": "code",
   "execution_count": 106,
   "metadata": {
    "collapsed": false
   },
   "outputs": [
    {
     "data": {
      "text/plain": [
       "array([ 1.    ,  1.1667,  1.3333,  1.5   ,  1.6667,  1.8333,  2.    ,  2.1667,  2.3333,  2.5   ,\n",
       "        2.6667,  2.8333,  3.    ,  3.1667,  3.3333,  3.5   ,  3.6667,  3.8334,  4.    ,  4.1667,\n",
       "        4.3333,  4.5   ,  4.6667,  4.8334,  5.    ,  5.1667,  5.3334,  5.5   ,  5.6667,  5.8334])"
      ]
     },
     "execution_count": 106,
     "metadata": {},
     "output_type": "execute_result"
    }
   ],
   "source": [
    "# Add a small perturbation over perfect linear relationship bwn indep vars (x1,x2) and the response (y)\n",
    "d = random(30)/30000.\n",
    "# Response variable\n",
    "y = np.matmul(x, [2., 3.]) + 1. + d"
   ]
  },
  {
   "cell_type": "code",
   "execution_count": 107,
   "metadata": {
    "collapsed": false
   },
   "outputs": [
    {
     "data": {
      "text/plain": [
       "array([[ 0.    ,  0.    ],\n",
       "       [ 0.0333,  0.0333],\n",
       "       [ 0.0667,  0.0667],\n",
       "       [ 0.1   ,  0.1   ],\n",
       "       [ 0.1333,  0.1333]])"
      ]
     },
     "execution_count": 107,
     "metadata": {},
     "output_type": "execute_result"
    }
   ],
   "source": [
    "x[:5]"
   ]
  },
  {
   "cell_type": "code",
   "execution_count": 111,
   "metadata": {
    "collapsed": true
   },
   "outputs": [],
   "source": [
    "# Set up 1-layer neural network, 1 output and 2 input neurons\n",
    "lm = Sequential([Dense(1, input_shape=(2,))])\n",
    "# Use stochastic gradient descent (SGD),  and mean squared error (MSE) loss; MSE is *terrible* loss fn for optimization\n",
    "lm.compile(optimizer=SGD(lr=0.1), loss='mse')"
   ]
  },
  {
   "cell_type": "code",
   "execution_count": 112,
   "metadata": {
    "collapsed": false
   },
   "outputs": [
    {
     "data": {
      "text/plain": [
       "7.1131620407104492"
      ]
     },
     "execution_count": 112,
     "metadata": {},
     "output_type": "execute_result"
    }
   ],
   "source": [
    "lm.evaluate(x, y, verbose=0)"
   ]
  },
  {
   "cell_type": "code",
   "execution_count": 113,
   "metadata": {
    "collapsed": false
   },
   "outputs": [
    {
     "name": "stdout",
     "output_type": "stream",
     "text": [
      "Epoch 1/80\n",
      "30/30 [==============================] - 0s - loss: 7.1132\n",
      "Epoch 2/80\n",
      "30/30 [==============================] - 0s - loss: 3.5045\n",
      "Epoch 3/80\n",
      "30/30 [==============================] - 0s - loss: 1.7580\n",
      "Epoch 4/80\n",
      "30/30 [==============================] - 0s - loss: 0.9114\n",
      "Epoch 5/80\n",
      "30/30 [==============================] - 0s - loss: 0.4996\n",
      "Epoch 6/80\n",
      "30/30 [==============================] - 0s - loss: 0.2981\n",
      "Epoch 7/80\n",
      "30/30 [==============================] - 0s - loss: 0.1983\n",
      "Epoch 8/80\n",
      "30/30 [==============================] - 0s - loss: 0.1477\n",
      "Epoch 9/80\n",
      "30/30 [==============================] - 0s - loss: 0.1211\n",
      "Epoch 10/80\n",
      "30/30 [==============================] - 0s - loss: 0.1060\n",
      "Epoch 11/80\n",
      "30/30 [==============================] - 0s - loss: 0.0967\n",
      "Epoch 12/80\n",
      "30/30 [==============================] - 0s - loss: 0.0902\n",
      "Epoch 13/80\n",
      "30/30 [==============================] - 0s - loss: 0.0852\n",
      "Epoch 14/80\n",
      "30/30 [==============================] - 0s - loss: 0.0810\n",
      "Epoch 15/80\n",
      "30/30 [==============================] - 0s - loss: 0.0773\n",
      "Epoch 16/80\n",
      "30/30 [==============================] - 0s - loss: 0.0738\n",
      "Epoch 17/80\n",
      "30/30 [==============================] - 0s - loss: 0.0706\n",
      "Epoch 18/80\n",
      "30/30 [==============================] - 0s - loss: 0.0675\n",
      "Epoch 19/80\n",
      "30/30 [==============================] - 0s - loss: 0.0645\n",
      "Epoch 20/80\n",
      "30/30 [==============================] - 0s - loss: 0.0618\n",
      "Epoch 21/80\n",
      "30/30 [==============================] - 0s - loss: 0.0591\n",
      "Epoch 22/80\n",
      "30/30 [==============================] - 0s - loss: 0.0565\n",
      "Epoch 23/80\n",
      "30/30 [==============================] - 0s - loss: 0.0541\n",
      "Epoch 24/80\n",
      "30/30 [==============================] - 0s - loss: 0.0517\n",
      "Epoch 25/80\n",
      "30/30 [==============================] - 0s - loss: 0.0495\n",
      "Epoch 26/80\n",
      "30/30 [==============================] - 0s - loss: 0.0474\n",
      "Epoch 27/80\n",
      "30/30 [==============================] - 0s - loss: 0.0453\n",
      "Epoch 28/80\n",
      "30/30 [==============================] - 0s - loss: 0.0434\n",
      "Epoch 29/80\n",
      "30/30 [==============================] - 0s - loss: 0.0415\n",
      "Epoch 30/80\n",
      "30/30 [==============================] - 0s - loss: 0.0397\n",
      "Epoch 31/80\n",
      "30/30 [==============================] - 0s - loss: 0.0380\n",
      "Epoch 32/80\n",
      "30/30 [==============================] - 0s - loss: 0.0363\n",
      "Epoch 33/80\n",
      "30/30 [==============================] - 0s - loss: 0.0348\n",
      "Epoch 34/80\n",
      "30/30 [==============================] - 0s - loss: 0.0333\n",
      "Epoch 35/80\n",
      "30/30 [==============================] - 0s - loss: 0.0318\n",
      "Epoch 36/80\n",
      "30/30 [==============================] - 0s - loss: 0.0305\n",
      "Epoch 37/80\n",
      "30/30 [==============================] - 0s - loss: 0.0291\n",
      "Epoch 38/80\n",
      "30/30 [==============================] - 0s - loss: 0.0279\n",
      "Epoch 39/80\n",
      "30/30 [==============================] - 0s - loss: 0.0267\n",
      "Epoch 40/80\n",
      "30/30 [==============================] - 0s - loss: 0.0255\n",
      "Epoch 41/80\n",
      "30/30 [==============================] - 0s - loss: 0.0244\n",
      "Epoch 42/80\n",
      "30/30 [==============================] - 0s - loss: 0.0234\n",
      "Epoch 43/80\n",
      "30/30 [==============================] - 0s - loss: 0.0224\n",
      "Epoch 44/80\n",
      "30/30 [==============================] - 0s - loss: 0.0214\n",
      "Epoch 45/80\n",
      "30/30 [==============================] - 0s - loss: 0.0205\n",
      "Epoch 46/80\n",
      "30/30 [==============================] - 0s - loss: 0.0196\n",
      "Epoch 47/80\n",
      "30/30 [==============================] - 0s - loss: 0.0187\n",
      "Epoch 48/80\n",
      "30/30 [==============================] - 0s - loss: 0.0179\n",
      "Epoch 49/80\n",
      "30/30 [==============================] - 0s - loss: 0.0172\n",
      "Epoch 50/80\n",
      "30/30 [==============================] - 0s - loss: 0.0164\n",
      "Epoch 51/80\n",
      "30/30 [==============================] - 0s - loss: 0.0157\n",
      "Epoch 52/80\n",
      "30/30 [==============================] - 0s - loss: 0.0150\n",
      "Epoch 53/80\n",
      "30/30 [==============================] - 0s - loss: 0.0144\n",
      "Epoch 54/80\n",
      "30/30 [==============================] - 0s - loss: 0.0138\n",
      "Epoch 55/80\n",
      "30/30 [==============================] - 0s - loss: 0.0132\n",
      "Epoch 56/80\n",
      "30/30 [==============================] - 0s - loss: 0.0126\n",
      "Epoch 57/80\n",
      "30/30 [==============================] - 0s - loss: 0.0120\n",
      "Epoch 58/80\n",
      "30/30 [==============================] - 0s - loss: 0.0115\n",
      "Epoch 59/80\n",
      "30/30 [==============================] - 0s - loss: 0.0110\n",
      "Epoch 60/80\n",
      "30/30 [==============================] - 0s - loss: 0.0106\n",
      "Epoch 61/80\n",
      "30/30 [==============================] - 0s - loss: 0.0101\n",
      "Epoch 62/80\n",
      "30/30 [==============================] - 0s - loss: 0.0097\n",
      "Epoch 63/80\n",
      "30/30 [==============================] - 0s - loss: 0.0092\n",
      "Epoch 64/80\n",
      "30/30 [==============================] - 0s - loss: 0.0088\n",
      "Epoch 65/80\n",
      "30/30 [==============================] - 0s - loss: 0.0085\n",
      "Epoch 66/80\n",
      "30/30 [==============================] - 0s - loss: 0.0081\n",
      "Epoch 67/80\n",
      "30/30 [==============================] - 0s - loss: 0.0077\n",
      "Epoch 68/80\n",
      "30/30 [==============================] - 0s - loss: 0.0074\n",
      "Epoch 69/80\n",
      "30/30 [==============================] - 0s - loss: 0.0071\n",
      "Epoch 70/80\n",
      "30/30 [==============================] - 0s - loss: 0.0068\n",
      "Epoch 71/80\n",
      "30/30 [==============================] - 0s - loss: 0.0065\n",
      "Epoch 72/80\n",
      "30/30 [==============================] - 0s - loss: 0.0062\n",
      "Epoch 73/80\n",
      "30/30 [==============================] - 0s - loss: 0.0059\n",
      "Epoch 74/80\n",
      "30/30 [==============================] - 0s - loss: 0.0057\n",
      "Epoch 75/80\n",
      "30/30 [==============================] - 0s - loss: 0.0054\n",
      "Epoch 76/80\n",
      "30/30 [==============================] - 0s - loss: 0.0052\n",
      "Epoch 77/80\n",
      "30/30 [==============================] - 0s - loss: 0.0050\n",
      "Epoch 78/80\n",
      "30/30 [==============================] - 0s - loss: 0.0048\n",
      "Epoch 79/80\n",
      "30/30 [==============================] - 0s - loss: 0.0046\n",
      "Epoch 80/80\n",
      "30/30 [==============================] - 0s - loss: 0.0044\n",
      "CPU times: user 428 ms, sys: 79.6 ms, total: 508 ms\n",
      "Wall time: 460 ms\n"
     ]
    },
    {
     "data": {
      "text/plain": [
       "<keras.callbacks.History at 0x1142c3810>"
      ]
     },
     "execution_count": 113,
     "metadata": {},
     "output_type": "execute_result"
    }
   ],
   "source": [
    "%time lm.fit(x, y, nb_epoch=80, batch_size=900)"
   ]
  },
  {
   "cell_type": "code",
   "execution_count": 114,
   "metadata": {
    "collapsed": false
   },
   "outputs": [
    {
     "data": {
      "text/plain": [
       "0.0041740373708307743"
      ]
     },
     "execution_count": 114,
     "metadata": {},
     "output_type": "execute_result"
    }
   ],
   "source": [
    "lm.evaluate(x, y, verbose=0)"
   ]
  },
  {
   "cell_type": "code",
   "execution_count": 115,
   "metadata": {
    "collapsed": false
   },
   "outputs": [
    {
     "data": {
      "text/plain": [
       "[array([[ 2.381 ],\n",
       "        [ 2.3997]], dtype=float32), array([ 1.119], dtype=float32)]"
      ]
     },
     "execution_count": 115,
     "metadata": {},
     "output_type": "execute_result"
    }
   ],
   "source": [
    "lm.get_weights() # MSE cannot get the rates right"
   ]
  },
  {
   "cell_type": "code",
   "execution_count": 53,
   "metadata": {
    "collapsed": false
   },
   "outputs": [],
   "source": [
    "??get_data"
   ]
  },
  {
   "cell_type": "code",
   "execution_count": 19,
   "metadata": {
    "collapsed": true
   },
   "outputs": [],
   "source": [
    "??get_batches"
   ]
  },
  {
   "cell_type": "code",
   "execution_count": 20,
   "metadata": {
    "collapsed": false
   },
   "outputs": [
    {
     "name": "stdout",
     "output_type": "stream",
     "text": [
      "Object `gen.flow_from_directory` not found.\n"
     ]
    }
   ],
   "source": [
    "??gen.flow_from_directory"
   ]
  },
  {
   "cell_type": "code",
   "execution_count": 21,
   "metadata": {
    "collapsed": false
   },
   "outputs": [
    {
     "name": "stdout",
     "output_type": "stream",
     "text": [
      "____________________________________________________________________________________________________\n",
      "Layer (type)                     Output Shape          Param #     Connected to                     \n",
      "====================================================================================================\n",
      "dense_input_2 (InputLayer)       (None, 2)             0                                            \n",
      "____________________________________________________________________________________________________\n",
      "dense_2 (Dense)                  (None, 1)             3           dense_input_2[0][0]              \n",
      "====================================================================================================\n",
      "Total params: 3\n",
      "Trainable params: 3\n",
      "Non-trainable params: 0\n",
      "____________________________________________________________________________________________________\n"
     ]
    }
   ],
   "source": [
    "lm.model.summary()"
   ]
  },
  {
   "cell_type": "code",
   "execution_count": null,
   "metadata": {
    "collapsed": true
   },
   "outputs": [],
   "source": []
  },
  {
   "cell_type": "code",
   "execution_count": null,
   "metadata": {
    "collapsed": true
   },
   "outputs": [],
   "source": []
  },
  {
   "cell_type": "code",
   "execution_count": null,
   "metadata": {
    "collapsed": true
   },
   "outputs": [],
   "source": []
  },
  {
   "cell_type": "code",
   "execution_count": null,
   "metadata": {
    "collapsed": true
   },
   "outputs": [],
   "source": []
  },
  {
   "cell_type": "code",
   "execution_count": null,
   "metadata": {
    "collapsed": true
   },
   "outputs": [],
   "source": []
  }
 ],
 "metadata": {
  "kernelspec": {
   "display_name": "Python 2",
   "language": "python",
   "name": "python2"
  },
  "language_info": {
   "codemirror_mode": {
    "name": "ipython",
    "version": 2
   },
   "file_extension": ".py",
   "mimetype": "text/x-python",
   "name": "python",
   "nbconvert_exporter": "python",
   "pygments_lexer": "ipython2",
   "version": "2.7.13"
  }
 },
 "nbformat": 4,
 "nbformat_minor": 2
}
