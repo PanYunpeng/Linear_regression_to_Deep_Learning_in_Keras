{
 "cells": [
  {
   "cell_type": "code",
   "execution_count": 8,
   "metadata": {
    "collapsed": false
   },
   "outputs": [
    {
     "name": "stdout",
     "output_type": "stream",
     "text": [
      "# conda environments:\n",
      "#\n",
      "kaggle2017               /Users/szalmaf/anaconda/envs/kaggle2017\n",
      "kaggle2017-2.7        *  /Users/szalmaf/anaconda/envs/kaggle2017-2.7\n",
      "root                     /Users/szalmaf/anaconda\n",
      "\n",
      "/Users/szalmaf/Documents/GitHub/Training Statistics/fastai_Deep-Learning/mySolution\n"
     ]
    }
   ],
   "source": [
    "!conda env list\n",
    "!touch image_processing.ipynb\n",
    "!pwd"
   ]
  },
  {
   "cell_type": "code",
   "execution_count": 2,
   "metadata": {
    "collapsed": false
   },
   "outputs": [
    {
     "name": "stderr",
     "output_type": "stream",
     "text": [
      "Using Theano backend.\n"
     ]
    }
   ],
   "source": [
    "%matplotlib inline\n",
    "import utils; reload(utils)\n",
    "from utils import *"
   ]
  },
  {
   "cell_type": "markdown",
   "metadata": {},
   "source": [
    "## Simple linear regression in terms of a neural network: x -> y"
   ]
  },
  {
   "cell_type": "code",
   "execution_count": 3,
   "metadata": {
    "collapsed": false
   },
   "outputs": [],
   "source": [
    "# indep variable\n",
    "x = np.array(range(30))/30."
   ]
  },
  {
   "cell_type": "code",
   "execution_count": 16,
   "metadata": {
    "collapsed": false
   },
   "outputs": [],
   "source": [
    "# noise \n",
    "d = (random(30) - 0.5)/2.\n",
    "# response + noise\n",
    "y = 1. + 2. * x + d "
   ]
  },
  {
   "cell_type": "code",
   "execution_count": 17,
   "metadata": {
    "collapsed": false
   },
   "outputs": [
    {
     "data": {
      "text/plain": [
       "[<matplotlib.lines.Line2D at 0x114af9490>]"
      ]
     },
     "execution_count": 17,
     "metadata": {},
     "output_type": "execute_result"
    },
    {
     "data": {
      "image/png": "[encoded data removed]",
      "text/plain": [
       "<matplotlib.figure.Figure at 0x1149daa10>"
      ]
     },
     "metadata": {},
     "output_type": "display_data"
    }
   ],
   "source": [
    "plt.plot(x,y)"
   ]
  },
  {
   "cell_type": "code",
   "execution_count": 18,
   "metadata": {
    "collapsed": false
   },
   "outputs": [
    {
     "name": "stdout",
     "output_type": "stream",
     "text": [
      "____________________________________________________________________________________________________\n",
      "Layer (type)                     Output Shape          Param #     Connected to                     \n",
      "====================================================================================================\n",
      "dense_input_2 (InputLayer)       (None, 1)             0                                            \n",
      "____________________________________________________________________________________________________\n",
      "dense_2 (Dense)                  (None, 1)             2           dense_input_2[0][0]              \n",
      "====================================================================================================\n",
      "Total params: 2\n",
      "Trainable params: 2\n",
      "Non-trainable params: 0\n",
      "____________________________________________________________________________________________________\n"
     ]
    }
   ],
   "source": [
    "# build model: one (dense) layer nn, 1 output node, 1 input node\n",
    "lm = Sequential([Dense(1, input_shape=(1,))])\n",
    "# Use stochastic gradient descent (SGD) and Mean Squared Error (MSE) as loss function\n",
    "lm.compile(optimizer=SGD(lr=0.1), loss='mse') \n",
    "lm.model.summary() # 2 fitting parameters a (alpha, intersection), b (beta)"
   ]
  },
  {
   "cell_type": "code",
   "execution_count": 36,
   "metadata": {
    "collapsed": false
   },
   "outputs": [
    {
     "data": {
      "text/plain": [
       "0.017564596608281136"
      ]
     },
     "execution_count": 36,
     "metadata": {},
     "output_type": "execute_result"
    }
   ],
   "source": [
    "lm.evaluate(x, y, verbose=0)"
   ]
  },
  {
   "cell_type": "code",
   "execution_count": 37,
   "metadata": {
    "collapsed": false
   },
   "outputs": [
    {
     "name": "stdout",
     "output_type": "stream",
     "text": [
      "Epoch 1/80\n",
      "30/30 [==============================] - 0s - loss: 0.0176\n",
      "Epoch 2/80\n",
      "30/30 [==============================] - 0s - loss: 0.0176\n",
      "Epoch 3/80\n",
      "30/30 [==============================] - 0s - loss: 0.0175\n",
      "Epoch 4/80\n",
      "30/30 [==============================] - 0s - loss: 0.0175\n",
      "Epoch 5/80\n",
      "30/30 [==============================] - 0s - loss: 0.0175\n",
      "Epoch 6/80\n",
      "30/30 [==============================] - 0s - loss: 0.0175\n",
      "Epoch 7/80\n",
      "30/30 [==============================] - 0s - loss: 0.0175\n",
      "Epoch 8/80\n",
      "30/30 [==============================] - 0s - loss: 0.0175\n",
      "Epoch 9/80\n",
      "30/30 [==============================] - 0s - loss: 0.0175\n",
      "Epoch 10/80\n",
      "30/30 [==============================] - 0s - loss: 0.0175\n",
      "Epoch 11/80\n",
      "30/30 [==============================] - 0s - loss: 0.0174\n",
      "Epoch 12/80\n",
      "30/30 [==============================] - 0s - loss: 0.0174\n",
      "Epoch 13/80\n",
      "30/30 [==============================] - 0s - loss: 0.0174\n",
      "Epoch 14/80\n",
      "30/30 [==============================] - 0s - loss: 0.0174\n",
      "Epoch 15/80\n",
      "30/30 [==============================] - 0s - loss: 0.0174\n",
      "Epoch 16/80\n",
      "30/30 [==============================] - 0s - loss: 0.0174\n",
      "Epoch 17/80\n",
      "30/30 [==============================] - 0s - loss: 0.0174\n",
      "Epoch 18/80\n",
      "30/30 [==============================] - 0s - loss: 0.0174\n",
      "Epoch 19/80\n",
      "30/30 [==============================] - 0s - loss: 0.0174\n",
      "Epoch 20/80\n",
      "30/30 [==============================] - 0s - loss: 0.0174\n",
      "Epoch 21/80\n",
      "30/30 [==============================] - 0s - loss: 0.0174\n",
      "Epoch 22/80\n",
      "30/30 [==============================] - 0s - loss: 0.0174\n",
      "Epoch 23/80\n",
      "30/30 [==============================] - 0s - loss: 0.0173\n",
      "Epoch 24/80\n",
      "30/30 [==============================] - 0s - loss: 0.0173\n",
      "Epoch 25/80\n",
      "30/30 [==============================] - 0s - loss: 0.0173\n",
      "Epoch 26/80\n",
      "30/30 [==============================] - 0s - loss: 0.0173\n",
      "Epoch 27/80\n",
      "30/30 [==============================] - 0s - loss: 0.0173\n",
      "Epoch 28/80\n",
      "30/30 [==============================] - 0s - loss: 0.0173\n",
      "Epoch 29/80\n",
      "30/30 [==============================] - 0s - loss: 0.0173\n",
      "Epoch 30/80\n",
      "30/30 [==============================] - 0s - loss: 0.0173\n",
      "Epoch 31/80\n",
      "30/30 [==============================] - 0s - loss: 0.0173\n",
      "Epoch 32/80\n",
      "30/30 [==============================] - 0s - loss: 0.0173\n",
      "Epoch 33/80\n",
      "30/30 [==============================] - 0s - loss: 0.0173\n",
      "Epoch 34/80\n",
      "30/30 [==============================] - 0s - loss: 0.0173\n",
      "Epoch 35/80\n",
      "30/30 [==============================] - 0s - loss: 0.0173\n",
      "Epoch 36/80\n",
      "30/30 [==============================] - 0s - loss: 0.0173\n",
      "Epoch 37/80\n",
      "30/30 [==============================] - 0s - loss: 0.0173\n",
      "Epoch 38/80\n",
      "30/30 [==============================] - 0s - loss: 0.0173\n",
      "Epoch 39/80\n",
      "30/30 [==============================] - 0s - loss: 0.0172\n",
      "Epoch 40/80\n",
      "30/30 [==============================] - 0s - loss: 0.0172\n",
      "Epoch 41/80\n",
      "30/30 [==============================] - 0s - loss: 0.0172\n",
      "Epoch 42/80\n",
      "30/30 [==============================] - 0s - loss: 0.0172\n",
      "Epoch 43/80\n",
      "30/30 [==============================] - 0s - loss: 0.0172\n",
      "Epoch 44/80\n",
      "30/30 [==============================] - 0s - loss: 0.0172\n",
      "Epoch 45/80\n",
      "30/30 [==============================] - 0s - loss: 0.0172\n",
      "Epoch 46/80\n",
      "30/30 [==============================] - 0s - loss: 0.0172\n",
      "Epoch 47/80\n",
      "30/30 [==============================] - 0s - loss: 0.0172\n",
      "Epoch 48/80\n",
      "30/30 [==============================] - 0s - loss: 0.0172\n",
      "Epoch 49/80\n",
      "30/30 [==============================] - 0s - loss: 0.0172\n",
      "Epoch 50/80\n",
      "30/30 [==============================] - 0s - loss: 0.0172\n",
      "Epoch 51/80\n",
      "30/30 [==============================] - 0s - loss: 0.0172\n",
      "Epoch 52/80\n",
      "30/30 [==============================] - 0s - loss: 0.0172\n",
      "Epoch 53/80\n",
      "30/30 [==============================] - 0s - loss: 0.0172\n",
      "Epoch 54/80\n",
      "30/30 [==============================] - 0s - loss: 0.0172\n",
      "Epoch 55/80\n",
      "30/30 [==============================] - 0s - loss: 0.0172\n",
      "Epoch 56/80\n",
      "30/30 [==============================] - 0s - loss: 0.0172\n",
      "Epoch 57/80\n",
      "30/30 [==============================] - 0s - loss: 0.0172\n",
      "Epoch 58/80\n",
      "30/30 [==============================] - 0s - loss: 0.0172\n",
      "Epoch 59/80\n",
      "30/30 [==============================] - 0s - loss: 0.0172\n",
      "Epoch 60/80\n",
      "30/30 [==============================] - 0s - loss: 0.0172\n",
      "Epoch 61/80\n",
      "30/30 [==============================] - 0s - loss: 0.0172\n",
      "Epoch 62/80\n",
      "30/30 [==============================] - 0s - loss: 0.0172\n",
      "Epoch 63/80\n",
      "30/30 [==============================] - 0s - loss: 0.0172\n",
      "Epoch 64/80\n",
      "30/30 [==============================] - 0s - loss: 0.0172\n",
      "Epoch 65/80\n",
      "30/30 [==============================] - 0s - loss: 0.0172\n",
      "Epoch 66/80\n",
      "30/30 [==============================] - 0s - loss: 0.0172\n",
      "Epoch 67/80\n",
      "30/30 [==============================] - 0s - loss: 0.0172\n",
      "Epoch 68/80\n",
      "30/30 [==============================] - 0s - loss: 0.0171\n",
      "Epoch 69/80\n",
      "30/30 [==============================] - 0s - loss: 0.0171\n",
      "Epoch 70/80\n",
      "30/30 [==============================] - 0s - loss: 0.0171\n",
      "Epoch 71/80\n",
      "30/30 [==============================] - 0s - loss: 0.0171\n",
      "Epoch 72/80\n",
      "30/30 [==============================] - 0s - loss: 0.0171\n",
      "Epoch 73/80\n",
      "30/30 [==============================] - 0s - loss: 0.0171\n",
      "Epoch 74/80\n",
      "30/30 [==============================] - 0s - loss: 0.0171\n",
      "Epoch 75/80\n",
      "30/30 [==============================] - 0s - loss: 0.0171\n",
      "Epoch 76/80\n",
      "30/30 [==============================] - 0s - loss: 0.0171\n",
      "Epoch 77/80\n",
      "30/30 [==============================] - 0s - loss: 0.0171\n",
      "Epoch 78/80\n",
      "30/30 [==============================] - 0s - loss: 0.0171\n",
      "Epoch 79/80\n",
      "30/30 [==============================] - 0s - loss: 0.0171\n",
      "Epoch 80/80\n",
      "30/30 [==============================] - 0s - loss: 0.0171\n"
     ]
    },
    {
     "data": {
      "text/plain": [
       "<keras.callbacks.History at 0x114b8f310>"
      ]
     },
     "execution_count": 37,
     "metadata": {},
     "output_type": "execute_result"
    }
   ],
   "source": [
    "lm.fit(x, y, nb_epoch=80, batch_size=30)"
   ]
  },
  {
   "cell_type": "code",
   "execution_count": 38,
   "metadata": {
    "collapsed": false
   },
   "outputs": [],
   "source": [
    "a = lm.get_weights()[1][0]; b = lm.get_weights()[0][0][0]"
   ]
  },
  {
   "cell_type": "code",
   "execution_count": 39,
   "metadata": {
    "collapsed": true
   },
   "outputs": [],
   "source": [
    "def lin(a,b,x): return a + b * x"
   ]
  },
  {
   "cell_type": "code",
   "execution_count": 40,
   "metadata": {
    "collapsed": false
   },
   "outputs": [],
   "source": [
    "fig = plt.figure(dpi=100, figsize=(5,4))\n",
    "plt.scatter(x,y)\n",
    "line, = plt.plot(x, lin(a, b, x))\n",
    "plt.close()"
   ]
  },
  {
   "cell_type": "code",
   "execution_count": 41,
   "metadata": {
    "collapsed": false
   },
   "outputs": [
    {
     "data": {
      "image/png": "[encoded data removed]",
      "text/plain": [
       "<matplotlib.figure.Figure at 0x1149b12d0>"
      ]
     },
     "execution_count": 41,
     "metadata": {},
     "output_type": "execute_result"
    }
   ],
   "source": [
    "fig"
   ]
  },
  {
   "cell_type": "code",
   "execution_count": 43,
   "metadata": {
    "collapsed": false
   },
   "outputs": [
    {
     "data": {
      "text/plain": [
       "0.95207882"
      ]
     },
     "execution_count": 43,
     "metadata": {},
     "output_type": "execute_result"
    }
   ],
   "source": [
    "a"
   ]
  },
  {
   "cell_type": "markdown",
   "metadata": {},
   "source": [
    "## Multiple linear regression: (x1, x2) -> y"
   ]
  },
  {
   "cell_type": "code",
   "execution_count": 45,
   "metadata": {
    "collapsed": false
   },
   "outputs": [],
   "source": [
    "# 30 by 2 matrix containing x1 and x2 in its two columns\n",
    "x = np.transpose(np.array((range(30), permutation(range(30))))/30.)"
   ]
  },
  {
   "cell_type": "code",
   "execution_count": 98,
   "metadata": {
    "collapsed": false
   },
   "outputs": [],
   "source": [
    "# Add a small perturbation over perfect linear relationship bwn indep vars (x1,x2) and the response (y)\n",
    "d = (random(30) - 0.5)/2.\n",
    "# Response variable\n",
    "y = np.matmul(x, [2., 3.]) + 1. + d"
   ]
  },
  {
   "cell_type": "code",
   "execution_count": 99,
   "metadata": {
    "collapsed": false
   },
   "outputs": [
    {
     "data": {
      "text/plain": [
       "array([[ 0.    ,  0.9333],\n",
       "       [ 0.0333,  0.    ],\n",
       "       [ 0.0667,  0.9   ],\n",
       "       [ 0.1   ,  0.3   ],\n",
       "       [ 0.1333,  0.5667]])"
      ]
     },
     "execution_count": 99,
     "metadata": {},
     "output_type": "execute_result"
    }
   ],
   "source": [
    "x[:5]"
   ]
  },
  {
   "cell_type": "code",
   "execution_count": 100,
   "metadata": {
    "collapsed": true
   },
   "outputs": [],
   "source": [
    "# Set up 1-layer neural network, 1 output and 2 input neurons\n",
    "lm2 = Sequential([Dense(1, input_shape=(2,))])\n",
    "# Use stochastic gradient descent (SGD),  and mean squared error (MSE) loss; MSE is *terrible* loss fn for optimization\n",
    "lm2.compile(optimizer=SGD(lr=0.1), loss='mse')"
   ]
  },
  {
   "cell_type": "code",
   "execution_count": 105,
   "metadata": {
    "collapsed": false
   },
   "outputs": [
    {
     "data": {
      "text/plain": [
       "0.041306339204311371"
      ]
     },
     "execution_count": 105,
     "metadata": {},
     "output_type": "execute_result"
    }
   ],
   "source": [
    "lm2.evaluate(x, y, verbose=0)"
   ]
  },
  {
   "cell_type": "code",
   "execution_count": 118,
   "metadata": {
    "collapsed": false
   },
   "outputs": [
    {
     "name": "stdout",
     "output_type": "stream",
     "text": [
      "Epoch 1/80\n",
      "30/30 [==============================] - 0s - loss: 0.0169\n",
      "Epoch 2/80\n",
      "30/30 [==============================] - 0s - loss: 0.0169\n",
      "Epoch 3/80\n",
      "30/30 [==============================] - 0s - loss: 0.0169\n",
      "Epoch 4/80\n",
      "30/30 [==============================] - 0s - loss: 0.0169\n",
      "Epoch 5/80\n",
      "30/30 [==============================] - 0s - loss: 0.0169\n",
      "Epoch 6/80\n",
      "30/30 [==============================] - 0s - loss: 0.0169\n",
      "Epoch 7/80\n",
      "30/30 [==============================] - 0s - loss: 0.0169\n",
      "Epoch 8/80\n",
      "30/30 [==============================] - 0s - loss: 0.0169\n",
      "Epoch 9/80\n",
      "30/30 [==============================] - 0s - loss: 0.0169\n",
      "Epoch 10/80\n",
      "30/30 [==============================] - 0s - loss: 0.0169\n",
      "Epoch 11/80\n",
      "30/30 [==============================] - 0s - loss: 0.0169\n",
      "Epoch 12/80\n",
      "30/30 [==============================] - 0s - loss: 0.0169\n",
      "Epoch 13/80\n",
      "30/30 [==============================] - 0s - loss: 0.0169\n",
      "Epoch 14/80\n",
      "30/30 [==============================] - 0s - loss: 0.0169\n",
      "Epoch 15/80\n",
      "30/30 [==============================] - 0s - loss: 0.0169\n",
      "Epoch 16/80\n",
      "30/30 [==============================] - 0s - loss: 0.0169\n",
      "Epoch 17/80\n",
      "30/30 [==============================] - 0s - loss: 0.0169\n",
      "Epoch 18/80\n",
      "30/30 [==============================] - 0s - loss: 0.0169\n",
      "Epoch 19/80\n",
      "30/30 [==============================] - 0s - loss: 0.0169\n",
      "Epoch 20/80\n",
      "30/30 [==============================] - 0s - loss: 0.0169\n",
      "Epoch 21/80\n",
      "30/30 [==============================] - 0s - loss: 0.0169\n",
      "Epoch 22/80\n",
      "30/30 [==============================] - 0s - loss: 0.0169\n",
      "Epoch 23/80\n",
      "30/30 [==============================] - 0s - loss: 0.0169\n",
      "Epoch 24/80\n",
      "30/30 [==============================] - 0s - loss: 0.0169\n",
      "Epoch 25/80\n",
      "30/30 [==============================] - 0s - loss: 0.0169\n",
      "Epoch 26/80\n",
      "30/30 [==============================] - 0s - loss: 0.0169\n",
      "Epoch 27/80\n",
      "30/30 [==============================] - 0s - loss: 0.0169\n",
      "Epoch 28/80\n",
      "30/30 [==============================] - 0s - loss: 0.0169\n",
      "Epoch 29/80\n",
      "30/30 [==============================] - 0s - loss: 0.0169\n",
      "Epoch 30/80\n",
      "30/30 [==============================] - 0s - loss: 0.0169\n",
      "Epoch 31/80\n",
      "30/30 [==============================] - 0s - loss: 0.0169\n",
      "Epoch 32/80\n",
      "30/30 [==============================] - 0s - loss: 0.0169\n",
      "Epoch 33/80\n",
      "30/30 [==============================] - 0s - loss: 0.0169\n",
      "Epoch 34/80\n",
      "30/30 [==============================] - 0s - loss: 0.0169\n",
      "Epoch 35/80\n",
      "30/30 [==============================] - 0s - loss: 0.0169\n",
      "Epoch 36/80\n",
      "30/30 [==============================] - 0s - loss: 0.0169\n",
      "Epoch 37/80\n",
      "30/30 [==============================] - 0s - loss: 0.0169\n",
      "Epoch 38/80\n",
      "30/30 [==============================] - 0s - loss: 0.0169\n",
      "Epoch 39/80\n",
      "30/30 [==============================] - 0s - loss: 0.0169\n",
      "Epoch 40/80\n",
      "30/30 [==============================] - 0s - loss: 0.0169\n",
      "Epoch 41/80\n",
      "30/30 [==============================] - 0s - loss: 0.0169\n",
      "Epoch 42/80\n",
      "30/30 [==============================] - 0s - loss: 0.0169\n",
      "Epoch 43/80\n",
      "30/30 [==============================] - 0s - loss: 0.0169\n",
      "Epoch 44/80\n",
      "30/30 [==============================] - 0s - loss: 0.0169\n",
      "Epoch 45/80\n",
      "30/30 [==============================] - 0s - loss: 0.0169\n",
      "Epoch 46/80\n",
      "30/30 [==============================] - 0s - loss: 0.0169\n",
      "Epoch 47/80\n",
      "30/30 [==============================] - 0s - loss: 0.0169\n",
      "Epoch 48/80\n",
      "30/30 [==============================] - 0s - loss: 0.0169\n",
      "Epoch 49/80\n",
      "30/30 [==============================] - 0s - loss: 0.0169\n",
      "Epoch 50/80\n",
      "30/30 [==============================] - 0s - loss: 0.0169\n",
      "Epoch 51/80\n",
      "30/30 [==============================] - 0s - loss: 0.0169\n",
      "Epoch 52/80\n",
      "30/30 [==============================] - 0s - loss: 0.0169\n",
      "Epoch 53/80\n",
      "30/30 [==============================] - 0s - loss: 0.0169\n",
      "Epoch 54/80\n",
      "30/30 [==============================] - 0s - loss: 0.0168\n",
      "Epoch 55/80\n",
      "30/30 [==============================] - 0s - loss: 0.0168\n",
      "Epoch 56/80\n",
      "30/30 [==============================] - 0s - loss: 0.0168\n",
      "Epoch 57/80\n",
      "30/30 [==============================] - 0s - loss: 0.0168\n",
      "Epoch 58/80\n",
      "30/30 [==============================] - 0s - loss: 0.0168\n",
      "Epoch 59/80\n",
      "30/30 [==============================] - 0s - loss: 0.0168\n",
      "Epoch 60/80\n",
      "30/30 [==============================] - 0s - loss: 0.0168\n",
      "Epoch 61/80\n",
      "30/30 [==============================] - 0s - loss: 0.0168\n",
      "Epoch 62/80\n",
      "30/30 [==============================] - 0s - loss: 0.0168\n",
      "Epoch 63/80\n",
      "30/30 [==============================] - 0s - loss: 0.0168\n",
      "Epoch 64/80\n",
      "30/30 [==============================] - 0s - loss: 0.0168\n",
      "Epoch 65/80\n",
      "30/30 [==============================] - 0s - loss: 0.0168\n",
      "Epoch 66/80\n",
      "30/30 [==============================] - 0s - loss: 0.0168\n",
      "Epoch 67/80\n",
      "30/30 [==============================] - 0s - loss: 0.0168\n",
      "Epoch 68/80\n",
      "30/30 [==============================] - 0s - loss: 0.0168\n",
      "Epoch 69/80\n",
      "30/30 [==============================] - 0s - loss: 0.0168\n",
      "Epoch 70/80\n",
      "30/30 [==============================] - 0s - loss: 0.0168\n",
      "Epoch 71/80\n",
      "30/30 [==============================] - 0s - loss: 0.0168\n",
      "Epoch 72/80\n",
      "30/30 [==============================] - 0s - loss: 0.0168\n",
      "Epoch 73/80\n",
      "30/30 [==============================] - 0s - loss: 0.0168\n",
      "Epoch 74/80\n",
      "30/30 [==============================] - 0s - loss: 0.0168\n",
      "Epoch 75/80\n",
      "30/30 [==============================] - 0s - loss: 0.0168\n",
      "Epoch 76/80\n",
      "30/30 [==============================] - 0s - loss: 0.0168\n",
      "Epoch 77/80\n",
      "30/30 [==============================] - 0s - loss: 0.0168\n",
      "Epoch 78/80\n",
      "30/30 [==============================] - 0s - loss: 0.0168\n",
      "Epoch 79/80\n",
      "30/30 [==============================] - 0s - loss: 0.0168\n",
      "Epoch 80/80\n",
      "30/30 [==============================] - 0s - loss: 0.0168\n",
      "CPU times: user 136 ms, sys: 55.8 ms, total: 192 ms\n",
      "Wall time: 156 ms\n"
     ]
    },
    {
     "data": {
      "text/plain": [
       "<keras.callbacks.History at 0x115aaafd0>"
      ]
     },
     "execution_count": 118,
     "metadata": {},
     "output_type": "execute_result"
    }
   ],
   "source": [
    "%time lm2.fit(x, y, nb_epoch=80, batch_size=900)"
   ]
  },
  {
   "cell_type": "code",
   "execution_count": 119,
   "metadata": {
    "collapsed": false
   },
   "outputs": [
    {
     "data": {
      "text/plain": [
       "0.016848349943757057"
      ]
     },
     "execution_count": 119,
     "metadata": {},
     "output_type": "execute_result"
    }
   ],
   "source": [
    "lm2.evaluate(x, y, verbose=0)"
   ]
  },
  {
   "cell_type": "code",
   "execution_count": 120,
   "metadata": {
    "collapsed": false
   },
   "outputs": [
    {
     "data": {
      "text/plain": [
       "[array([[ 2.097 ],\n",
       "        [ 2.9163]], dtype=float32), array([ 1.0033], dtype=float32)]"
      ]
     },
     "execution_count": 120,
     "metadata": {},
     "output_type": "execute_result"
    }
   ],
   "source": [
    "lm2.get_weights() # MSE cannot get the fitting parameters right"
   ]
  },
  {
   "cell_type": "code",
   "execution_count": 122,
   "metadata": {
    "collapsed": false
   },
   "outputs": [
    {
     "name": "stdout",
     "output_type": "stream",
     "text": [
      "____________________________________________________________________________________________________\n",
      "Layer (type)                     Output Shape          Param #     Connected to                     \n",
      "====================================================================================================\n",
      "dense_input_5 (InputLayer)       (None, 2)             0                                            \n",
      "____________________________________________________________________________________________________\n",
      "dense_5 (Dense)                  (None, 1)             3           dense_input_5[0][0]              \n",
      "====================================================================================================\n",
      "Total params: 3\n",
      "Trainable params: 3\n",
      "Non-trainable params: 0\n",
      "____________________________________________________________________________________________________\n"
     ]
    }
   ],
   "source": [
    "lm2.model.summary() # 3 parameters a, b1, b2"
   ]
  },
  {
   "cell_type": "code",
   "execution_count": null,
   "metadata": {
    "collapsed": true
   },
   "outputs": [],
   "source": []
  }
 ],
 "metadata": {
  "kernelspec": {
   "display_name": "Python 2",
   "language": "python",
   "name": "python2"
  },
  "language_info": {
   "codemirror_mode": {
    "name": "ipython",
    "version": 2
   },
   "file_extension": ".py",
   "mimetype": "text/x-python",
   "name": "python",
   "nbconvert_exporter": "python",
   "pygments_lexer": "ipython2",
   "version": "2.7.13"
  }
 },
 "nbformat": 4,
 "nbformat_minor": 2
}
