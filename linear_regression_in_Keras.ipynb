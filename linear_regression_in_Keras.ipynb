{
 "cells": [
  {
   "cell_type": "code",
   "execution_count": 40,
   "metadata": {
    "collapsed": false
   },
   "outputs": [],
   "source": [
    "%matplotlib inline\n",
    "import utils; reload(utils)\n",
    "from utils import *"
   ]
  },
  {
   "cell_type": "markdown",
   "metadata": {},
   "source": [
    "## Simple linear regression in terms of a neural network: x -> y"
   ]
  },
  {
   "cell_type": "code",
   "execution_count": 180,
   "metadata": {
    "collapsed": false
   },
   "outputs": [],
   "source": [
    "# indep variable\n",
    "x = np.array(range(30))/30."
   ]
  },
  {
   "cell_type": "code",
   "execution_count": 187,
   "metadata": {
    "collapsed": false
   },
   "outputs": [],
   "source": [
    "# noise \n",
    "d = (random(30) - 0.5)/10.\n",
    "# response + noise\n",
    "y = 1. + 2. * x + d "
   ]
  },
  {
   "cell_type": "code",
   "execution_count": 188,
   "metadata": {
    "collapsed": false
   },
   "outputs": [
    {
     "data": {
      "text/plain": [
       "[<matplotlib.lines.Line2D at 0x11dbd00d0>]"
      ]
     },
     "execution_count": 188,
     "metadata": {},
     "output_type": "execute_result"
    },
    {
     "data": {
      "image/png": "[encoded data removed]",
      "text/plain": [
       "<matplotlib.figure.Figure at 0x11db3f390>"
      ]
     },
     "metadata": {},
     "output_type": "display_data"
    }
   ],
   "source": [
    "plt.plot(x,y)"
   ]
  },
  {
   "cell_type": "code",
   "execution_count": 196,
   "metadata": {
    "collapsed": false
   },
   "outputs": [
    {
     "name": "stdout",
     "output_type": "stream",
     "text": [
      "____________________________________________________________________________________________________\n",
      "Layer (type)                     Output Shape          Param #     Connected to                     \n",
      "====================================================================================================\n",
      "dense_input_20 (InputLayer)      (None, 1)             0                                            \n",
      "____________________________________________________________________________________________________\n",
      "dense_20 (Dense)                 (None, 1)             2           dense_input_20[0][0]             \n",
      "====================================================================================================\n",
      "Total params: 2\n",
      "Trainable params: 2\n",
      "Non-trainable params: 0\n",
      "____________________________________________________________________________________________________\n"
     ]
    }
   ],
   "source": [
    "# build model: one (dense) layer nn, 1 output node, 1 input node\n",
    "lm = Sequential([Dense(1, input_shape=(1,))])\n",
    "# Use stochastic gradient descent (SGD) and Mean Squared Error (MSE) as loss function\n",
    "lm.compile(optimizer=SGD(lr=0.1), loss='mse') \n",
    "lm.model.summary()"
   ]
  },
  {
   "cell_type": "code",
   "execution_count": 218,
   "metadata": {
    "collapsed": false
   },
   "outputs": [
    {
     "data": {
      "text/plain": [
       "0.0010846134973689914"
      ]
     },
     "execution_count": 218,
     "metadata": {},
     "output_type": "execute_result"
    }
   ],
   "source": [
    "lm.evaluate(x, y, verbose=0)"
   ]
  },
  {
   "cell_type": "code",
   "execution_count": 219,
   "metadata": {
    "collapsed": false
   },
   "outputs": [
    {
     "name": "stdout",
     "output_type": "stream",
     "text": [
      "Epoch 1/80\n",
      "30/30 [==============================] - 0s - loss: 0.0011\n",
      "Epoch 2/80\n",
      "30/30 [==============================] - 0s - loss: 0.0011\n",
      "Epoch 3/80\n",
      "30/30 [==============================] - 0s - loss: 0.0011\n",
      "Epoch 4/80\n",
      "30/30 [==============================] - 0s - loss: 0.0011\n",
      "Epoch 5/80\n",
      "30/30 [==============================] - 0s - loss: 0.0011\n",
      "Epoch 6/80\n",
      "30/30 [==============================] - 0s - loss: 0.0010\n",
      "Epoch 7/80\n",
      "30/30 [==============================] - 0s - loss: 0.0010\n",
      "Epoch 8/80\n",
      "30/30 [==============================] - 0s - loss: 0.0010\n",
      "Epoch 9/80\n",
      "30/30 [==============================] - 0s - loss: 0.0010\n",
      "Epoch 10/80\n",
      "30/30 [==============================] - 0s - loss: 0.0010\n",
      "Epoch 11/80\n",
      "30/30 [==============================] - 0s - loss: 0.0010\n",
      "Epoch 12/80\n",
      "30/30 [==============================] - 0s - loss: 9.9887e-04\n",
      "Epoch 13/80\n",
      "30/30 [==============================] - 0s - loss: 9.9226e-04\n",
      "Epoch 14/80\n",
      "30/30 [==============================] - 0s - loss: 9.8582e-04\n",
      "Epoch 15/80\n",
      "30/30 [==============================] - 0s - loss: 9.7955e-04\n",
      "Epoch 16/80\n",
      "30/30 [==============================] - 0s - loss: 9.7345e-04\n",
      "Epoch 17/80\n",
      "30/30 [==============================] - 0s - loss: 9.6751e-04\n",
      "Epoch 18/80\n",
      "30/30 [==============================] - 0s - loss: 9.6173e-04\n",
      "Epoch 19/80\n",
      "30/30 [==============================] - 0s - loss: 9.5610e-04\n",
      "Epoch 20/80\n",
      "30/30 [==============================] - 0s - loss: 9.5062e-04\n",
      "Epoch 21/80\n",
      "30/30 [==============================] - 0s - loss: 9.4528e-04\n",
      "Epoch 22/80\n",
      "30/30 [==============================] - 0s - loss: 9.4009e-04\n",
      "Epoch 23/80\n",
      "30/30 [==============================] - 0s - loss: 9.3503e-04\n",
      "Epoch 24/80\n",
      "30/30 [==============================] - 0s - loss: 9.3011e-04\n",
      "Epoch 25/80\n",
      "30/30 [==============================] - 0s - loss: 9.2531e-04\n",
      "Epoch 26/80\n",
      "30/30 [==============================] - 0s - loss: 9.2065e-04\n",
      "Epoch 27/80\n",
      "30/30 [==============================] - 0s - loss: 9.1610e-04\n",
      "Epoch 28/80\n",
      "30/30 [==============================] - 0s - loss: 9.1168e-04\n",
      "Epoch 29/80\n",
      "30/30 [==============================] - 0s - loss: 9.0737e-04\n",
      "Epoch 30/80\n",
      "30/30 [==============================] - 0s - loss: 9.0318e-04\n",
      "Epoch 31/80\n",
      "30/30 [==============================] - 0s - loss: 8.9910e-04\n",
      "Epoch 32/80\n",
      "30/30 [==============================] - 0s - loss: 8.9513e-04\n",
      "Epoch 33/80\n",
      "30/30 [==============================] - 0s - loss: 8.9126e-04\n",
      "Epoch 34/80\n",
      "30/30 [==============================] - 0s - loss: 8.8749e-04\n",
      "Epoch 35/80\n",
      "30/30 [==============================] - 0s - loss: 8.8383e-04\n",
      "Epoch 36/80\n",
      "30/30 [==============================] - 0s - loss: 8.8026e-04\n",
      "Epoch 37/80\n",
      "30/30 [==============================] - 0s - loss: 8.7678e-04\n",
      "Epoch 38/80\n",
      "30/30 [==============================] - 0s - loss: 8.7340e-04\n",
      "Epoch 39/80\n",
      "30/30 [==============================] - 0s - loss: 8.7010e-04\n",
      "Epoch 40/80\n",
      "30/30 [==============================] - 0s - loss: 8.6690e-04\n",
      "Epoch 41/80\n",
      "30/30 [==============================] - 0s - loss: 8.6378e-04\n",
      "Epoch 42/80\n",
      "30/30 [==============================] - 0s - loss: 8.6074e-04\n",
      "Epoch 43/80\n",
      "30/30 [==============================] - 0s - loss: 8.5778e-04\n",
      "Epoch 44/80\n",
      "30/30 [==============================] - 0s - loss: 8.5490e-04\n",
      "Epoch 45/80\n",
      "30/30 [==============================] - 0s - loss: 8.5210e-04\n",
      "Epoch 46/80\n",
      "30/30 [==============================] - 0s - loss: 8.4937e-04\n",
      "Epoch 47/80\n",
      "30/30 [==============================] - 0s - loss: 8.4671e-04\n",
      "Epoch 48/80\n",
      "30/30 [==============================] - 0s - loss: 8.4412e-04\n",
      "Epoch 49/80\n",
      "30/30 [==============================] - 0s - loss: 8.4160e-04\n",
      "Epoch 50/80\n",
      "30/30 [==============================] - 0s - loss: 8.3915e-04\n",
      "Epoch 51/80\n",
      "30/30 [==============================] - 0s - loss: 8.3676e-04\n",
      "Epoch 52/80\n",
      "30/30 [==============================] - 0s - loss: 8.3444e-04\n",
      "Epoch 53/80\n",
      "30/30 [==============================] - 0s - loss: 8.3218e-04\n",
      "Epoch 54/80\n",
      "30/30 [==============================] - 0s - loss: 8.2997e-04\n",
      "Epoch 55/80\n",
      "30/30 [==============================] - 0s - loss: 8.2783e-04\n",
      "Epoch 56/80\n",
      "30/30 [==============================] - 0s - loss: 8.2574e-04\n",
      "Epoch 57/80\n",
      "30/30 [==============================] - 0s - loss: 8.2371e-04\n",
      "Epoch 58/80\n",
      "30/30 [==============================] - 0s - loss: 8.2173e-04\n",
      "Epoch 59/80\n",
      "30/30 [==============================] - 0s - loss: 8.1980e-04\n",
      "Epoch 60/80\n",
      "30/30 [==============================] - 0s - loss: 8.1793e-04\n",
      "Epoch 61/80\n",
      "30/30 [==============================] - 0s - loss: 8.1610e-04\n",
      "Epoch 62/80\n",
      "30/30 [==============================] - 0s - loss: 8.1432e-04\n",
      "Epoch 63/80\n",
      "30/30 [==============================] - 0s - loss: 8.1259e-04\n",
      "Epoch 64/80\n",
      "30/30 [==============================] - 0s - loss: 8.1091e-04\n",
      "Epoch 65/80\n",
      "30/30 [==============================] - 0s - loss: 8.0927e-04\n",
      "Epoch 66/80\n",
      "30/30 [==============================] - 0s - loss: 8.0767e-04\n",
      "Epoch 67/80\n",
      "30/30 [==============================] - 0s - loss: 8.0612e-04\n",
      "Epoch 68/80\n",
      "30/30 [==============================] - 0s - loss: 8.0460e-04\n",
      "Epoch 69/80\n",
      "30/30 [==============================] - 0s - loss: 8.0313e-04\n",
      "Epoch 70/80\n",
      "30/30 [==============================] - 0s - loss: 8.0169e-04\n",
      "Epoch 71/80\n",
      "30/30 [==============================] - 0s - loss: 8.0030e-04\n",
      "Epoch 72/80\n",
      "30/30 [==============================] - 0s - loss: 7.9894e-04\n",
      "Epoch 73/80\n",
      "30/30 [==============================] - 0s - loss: 7.9761e-04\n",
      "Epoch 74/80\n",
      "30/30 [==============================] - 0s - loss: 7.9633e-04\n",
      "Epoch 75/80\n",
      "30/30 [==============================] - 0s - loss: 7.9507e-04\n",
      "Epoch 76/80\n",
      "30/30 [==============================] - 0s - loss: 7.9385e-04\n",
      "Epoch 77/80\n",
      "30/30 [==============================] - 0s - loss: 7.9266e-04\n",
      "Epoch 78/80\n",
      "30/30 [==============================] - 0s - loss: 7.9150e-04\n",
      "Epoch 79/80\n",
      "30/30 [==============================] - 0s - loss: 7.9038e-04\n",
      "Epoch 80/80\n",
      "30/30 [==============================] - 0s - loss: 7.8928e-04\n"
     ]
    },
    {
     "data": {
      "text/plain": [
       "<keras.callbacks.History at 0x11e3f9cd0>"
      ]
     },
     "execution_count": 219,
     "metadata": {},
     "output_type": "execute_result"
    }
   ],
   "source": [
    "lm.fit(x, y, nb_epoch=80, batch_size=30)"
   ]
  },
  {
   "cell_type": "code",
   "execution_count": 220,
   "metadata": {
    "collapsed": false
   },
   "outputs": [],
   "source": [
    "a = lm.get_weights()[1][0]; b = lm.get_weights()[0][0][0]"
   ]
  },
  {
   "cell_type": "code",
   "execution_count": 221,
   "metadata": {
    "collapsed": true
   },
   "outputs": [],
   "source": [
    "def lin(a,b,x): return a + b * x"
   ]
  },
  {
   "cell_type": "code",
   "execution_count": 222,
   "metadata": {
    "collapsed": false
   },
   "outputs": [],
   "source": [
    "fig = plt.figure(dpi=100, figsize=(5,4))\n",
    "plt.scatter(x,y)\n",
    "line, = plt.plot(x, lin(a, b, x))\n",
    "plt.close()"
   ]
  },
  {
   "cell_type": "code",
   "execution_count": 223,
   "metadata": {
    "collapsed": false
   },
   "outputs": [
    {
     "data": {
      "image/png": "[encoded data removed]",
      "text/plain": [
       "<matplotlib.figure.Figure at 0x11d917790>"
      ]
     },
     "execution_count": 223,
     "metadata": {},
     "output_type": "execute_result"
    }
   ],
   "source": [
    "fig"
   ]
  },
  {
   "cell_type": "code",
   "execution_count": 225,
   "metadata": {
    "collapsed": false
   },
   "outputs": [
    {
     "data": {
      "text/plain": [
       "1.9441571"
      ]
     },
     "execution_count": 225,
     "metadata": {},
     "output_type": "execute_result"
    }
   ],
   "source": [
    "b"
   ]
  },
  {
   "cell_type": "markdown",
   "metadata": {},
   "source": [
    "## Multiple linear regression: (x1, x2) -> y"
   ]
  },
  {
   "cell_type": "code",
   "execution_count": 264,
   "metadata": {
    "collapsed": false
   },
   "outputs": [],
   "source": [
    "# 30 by 2 matrix containing x1 and x2 in its two columns\n",
    "x = np.transpose(np.array((range(30), permutation(range(30))))/30.)"
   ]
  },
  {
   "cell_type": "code",
   "execution_count": 265,
   "metadata": {
    "collapsed": false
   },
   "outputs": [],
   "source": [
    "# Add a small perturbation over perfect linear relationship bwn indep vars (x1,x2) and the response (y)\n",
    "d = random(30)/30000.\n",
    "# Response variable\n",
    "y = np.matmul(x, [2., 3.]) + 1. #+ d"
   ]
  },
  {
   "cell_type": "code",
   "execution_count": 266,
   "metadata": {
    "collapsed": false
   },
   "outputs": [
    {
     "data": {
      "text/plain": [
       "array([[ 0.    ,  0.6333],\n",
       "       [ 0.0333,  0.0333],\n",
       "       [ 0.0667,  0.    ],\n",
       "       [ 0.1   ,  0.7333],\n",
       "       [ 0.1333,  0.2333]])"
      ]
     },
     "execution_count": 266,
     "metadata": {},
     "output_type": "execute_result"
    }
   ],
   "source": [
    "x[:5]"
   ]
  },
  {
   "cell_type": "code",
   "execution_count": 267,
   "metadata": {
    "collapsed": true
   },
   "outputs": [],
   "source": [
    "# Set up 1-layer neural network, 1 output and 2 input neurons\n",
    "lm2 = Sequential([Dense(1, input_shape=(2,))])\n",
    "# Use stochastic gradient descent (SGD),  and mean squared error (MSE) loss; MSE is *terrible* loss fn for optimization\n",
    "lm2.compile(optimizer=SGD(lr=0.1), loss='mse')"
   ]
  },
  {
   "cell_type": "code",
   "execution_count": 268,
   "metadata": {
    "collapsed": false
   },
   "outputs": [
    {
     "data": {
      "text/plain": [
       "14.708146095275879"
      ]
     },
     "execution_count": 268,
     "metadata": {},
     "output_type": "execute_result"
    }
   ],
   "source": [
    "lm2.evaluate(x, y, verbose=0)"
   ]
  },
  {
   "cell_type": "code",
   "execution_count": 281,
   "metadata": {
    "collapsed": false
   },
   "outputs": [
    {
     "name": "stdout",
     "output_type": "stream",
     "text": [
      "Epoch 1/80\n",
      "30/30 [==============================] - 0s - loss: 7.1336e-05\n",
      "Epoch 2/80\n",
      "30/30 [==============================] - 0s - loss: 6.9423e-05\n",
      "Epoch 3/80\n",
      "30/30 [==============================] - 0s - loss: 6.7560e-05\n",
      "Epoch 4/80\n",
      "30/30 [==============================] - 0s - loss: 6.5747e-05\n",
      "Epoch 5/80\n",
      "30/30 [==============================] - 0s - loss: 6.3984e-05\n",
      "Epoch 6/80\n",
      "30/30 [==============================] - 0s - loss: 6.2267e-05\n",
      "Epoch 7/80\n",
      "30/30 [==============================] - 0s - loss: 6.0597e-05\n",
      "Epoch 8/80\n",
      "30/30 [==============================] - 0s - loss: 5.8971e-05\n",
      "Epoch 9/80\n",
      "30/30 [==============================] - 0s - loss: 5.7390e-05\n",
      "Epoch 10/80\n",
      "30/30 [==============================] - 0s - loss: 5.5850e-05\n",
      "Epoch 11/80\n",
      "30/30 [==============================] - 0s - loss: 5.4352e-05\n",
      "Epoch 12/80\n",
      "30/30 [==============================] - 0s - loss: 5.2893e-05\n",
      "Epoch 13/80\n",
      "30/30 [==============================] - 0s - loss: 5.1475e-05\n",
      "Epoch 14/80\n",
      "30/30 [==============================] - 0s - loss: 5.0094e-05\n",
      "Epoch 15/80\n",
      "30/30 [==============================] - 0s - loss: 4.8749e-05\n",
      "Epoch 16/80\n",
      "30/30 [==============================] - 0s - loss: 4.7442e-05\n",
      "Epoch 17/80\n",
      "30/30 [==============================] - 0s - loss: 4.6169e-05\n",
      "Epoch 18/80\n",
      "30/30 [==============================] - 0s - loss: 4.4930e-05\n",
      "Epoch 19/80\n",
      "30/30 [==============================] - 0s - loss: 4.3726e-05\n",
      "Epoch 20/80\n",
      "30/30 [==============================] - 0s - loss: 4.2553e-05\n",
      "Epoch 21/80\n",
      "30/30 [==============================] - 0s - loss: 4.1412e-05\n",
      "Epoch 22/80\n",
      "30/30 [==============================] - 0s - loss: 4.0300e-05\n",
      "Epoch 23/80\n",
      "30/30 [==============================] - 0s - loss: 3.9219e-05\n",
      "Epoch 24/80\n",
      "30/30 [==============================] - 0s - loss: 3.8167e-05\n",
      "Epoch 25/80\n",
      "30/30 [==============================] - 0s - loss: 3.7143e-05\n",
      "Epoch 26/80\n",
      "30/30 [==============================] - 0s - loss: 3.6147e-05\n",
      "Epoch 27/80\n",
      "30/30 [==============================] - 0s - loss: 3.5177e-05\n",
      "Epoch 28/80\n",
      "30/30 [==============================] - 0s - loss: 3.4233e-05\n",
      "Epoch 29/80\n",
      "30/30 [==============================] - 0s - loss: 3.3315e-05\n",
      "Epoch 30/80\n",
      "30/30 [==============================] - 0s - loss: 3.2421e-05\n",
      "Epoch 31/80\n",
      "30/30 [==============================] - 0s - loss: 3.1552e-05\n",
      "Epoch 32/80\n",
      "30/30 [==============================] - 0s - loss: 3.0705e-05\n",
      "Epoch 33/80\n",
      "30/30 [==============================] - 0s - loss: 2.9881e-05\n",
      "Epoch 34/80\n",
      "30/30 [==============================] - 0s - loss: 2.9080e-05\n",
      "Epoch 35/80\n",
      "30/30 [==============================] - 0s - loss: 2.8299e-05\n",
      "Epoch 36/80\n",
      "30/30 [==============================] - 0s - loss: 2.7540e-05\n",
      "Epoch 37/80\n",
      "30/30 [==============================] - 0s - loss: 2.6801e-05\n",
      "Epoch 38/80\n",
      "30/30 [==============================] - 0s - loss: 2.6082e-05\n",
      "Epoch 39/80\n",
      "30/30 [==============================] - 0s - loss: 2.5383e-05\n",
      "Epoch 40/80\n",
      "30/30 [==============================] - 0s - loss: 2.4702e-05\n",
      "Epoch 41/80\n",
      "30/30 [==============================] - 0s - loss: 2.4039e-05\n",
      "Epoch 42/80\n",
      "30/30 [==============================] - 0s - loss: 2.3394e-05\n",
      "Epoch 43/80\n",
      "30/30 [==============================] - 0s - loss: 2.2767e-05\n",
      "Epoch 44/80\n",
      "30/30 [==============================] - 0s - loss: 2.2156e-05\n",
      "Epoch 45/80\n",
      "30/30 [==============================] - 0s - loss: 2.1561e-05\n",
      "Epoch 46/80\n",
      "30/30 [==============================] - 0s - loss: 2.0983e-05\n",
      "Epoch 47/80\n",
      "30/30 [==============================] - 0s - loss: 2.0420e-05\n",
      "Epoch 48/80\n",
      "30/30 [==============================] - 0s - loss: 1.9872e-05\n",
      "Epoch 49/80\n",
      "30/30 [==============================] - 0s - loss: 1.9339e-05\n",
      "Epoch 50/80\n",
      "30/30 [==============================] - 0s - loss: 1.8821e-05\n",
      "Epoch 51/80\n",
      "30/30 [==============================] - 0s - loss: 1.8316e-05\n",
      "Epoch 52/80\n",
      "30/30 [==============================] - 0s - loss: 1.7824e-05\n",
      "Epoch 53/80\n",
      "30/30 [==============================] - 0s - loss: 1.7346e-05\n",
      "Epoch 54/80\n",
      "30/30 [==============================] - 0s - loss: 1.6881e-05\n",
      "Epoch 55/80\n",
      "30/30 [==============================] - 0s - loss: 1.6428e-05\n",
      "Epoch 56/80\n",
      "30/30 [==============================] - 0s - loss: 1.5988e-05\n",
      "Epoch 57/80\n",
      "30/30 [==============================] - 0s - loss: 1.5559e-05\n",
      "Epoch 58/80\n",
      "30/30 [==============================] - 0s - loss: 1.5141e-05\n",
      "Epoch 59/80\n",
      "30/30 [==============================] - 0s - loss: 1.4735e-05\n",
      "Epoch 60/80\n",
      "30/30 [==============================] - 0s - loss: 1.4340e-05\n",
      "Epoch 61/80\n",
      "30/30 [==============================] - 0s - loss: 1.3955e-05\n",
      "Epoch 62/80\n",
      "30/30 [==============================] - 0s - loss: 1.3581e-05\n",
      "Epoch 63/80\n",
      "30/30 [==============================] - 0s - loss: 1.3217e-05\n",
      "Epoch 64/80\n",
      "30/30 [==============================] - 0s - loss: 1.2862e-05\n",
      "Epoch 65/80\n",
      "30/30 [==============================] - 0s - loss: 1.2517e-05\n",
      "Epoch 66/80\n",
      "30/30 [==============================] - 0s - loss: 1.2181e-05\n",
      "Epoch 67/80\n",
      "30/30 [==============================] - 0s - loss: 1.1855e-05\n",
      "Epoch 68/80\n",
      "30/30 [==============================] - 0s - loss: 1.1537e-05\n",
      "Epoch 69/80\n",
      "30/30 [==============================] - 0s - loss: 1.1227e-05\n",
      "Epoch 70/80\n",
      "30/30 [==============================] - 0s - loss: 1.0926e-05\n",
      "Epoch 71/80\n",
      "30/30 [==============================] - 0s - loss: 1.0633e-05\n",
      "Epoch 72/80\n",
      "30/30 [==============================] - 0s - loss: 1.0348e-05\n",
      "Epoch 73/80\n",
      "30/30 [==============================] - 0s - loss: 1.0070e-05\n",
      "Epoch 74/80\n",
      "30/30 [==============================] - 0s - loss: 9.7998e-06\n",
      "Epoch 75/80\n",
      "30/30 [==============================] - 0s - loss: 9.5367e-06\n",
      "Epoch 76/80\n",
      "30/30 [==============================] - 0s - loss: 9.2811e-06\n",
      "Epoch 77/80\n",
      "30/30 [==============================] - 0s - loss: 9.0322e-06\n",
      "Epoch 78/80\n",
      "30/30 [==============================] - 0s - loss: 8.7897e-06\n",
      "Epoch 79/80\n",
      "30/30 [==============================] - 0s - loss: 8.5541e-06\n",
      "Epoch 80/80\n",
      "30/30 [==============================] - 0s - loss: 8.3246e-06\n",
      "CPU times: user 139 ms, sys: 58.9 ms, total: 198 ms\n",
      "Wall time: 160 ms\n"
     ]
    },
    {
     "data": {
      "text/plain": [
       "<keras.callbacks.History at 0x11ee45bd0>"
      ]
     },
     "execution_count": 281,
     "metadata": {},
     "output_type": "execute_result"
    }
   ],
   "source": [
    "%time lm2.fit(x, y, nb_epoch=80, batch_size=900)"
   ]
  },
  {
   "cell_type": "code",
   "execution_count": 282,
   "metadata": {
    "collapsed": false
   },
   "outputs": [
    {
     "data": {
      "text/plain": [
       "8.1011903603211977e-06"
      ]
     },
     "execution_count": 282,
     "metadata": {},
     "output_type": "execute_result"
    }
   ],
   "source": [
    "lm2.evaluate(x, y, verbose=0)"
   ]
  },
  {
   "cell_type": "code",
   "execution_count": 283,
   "metadata": {
    "collapsed": false
   },
   "outputs": [
    {
     "data": {
      "text/plain": [
       "[array([[ 1.9943],\n",
       "        [ 2.9932]], dtype=float32), array([ 1.0065], dtype=float32)]"
      ]
     },
     "execution_count": 283,
     "metadata": {},
     "output_type": "execute_result"
    }
   ],
   "source": [
    "lm2.get_weights() # MSE cannot get the fitting parameters right"
   ]
  },
  {
   "cell_type": "code",
   "execution_count": 250,
   "metadata": {
    "collapsed": false
   },
   "outputs": [],
   "source": [
    "??get_data"
   ]
  },
  {
   "cell_type": "code",
   "execution_count": 19,
   "metadata": {
    "collapsed": true
   },
   "outputs": [],
   "source": [
    "??get_batches"
   ]
  },
  {
   "cell_type": "code",
   "execution_count": 20,
   "metadata": {
    "collapsed": false
   },
   "outputs": [
    {
     "name": "stdout",
     "output_type": "stream",
     "text": [
      "Object `gen.flow_from_directory` not found.\n"
     ]
    }
   ],
   "source": [
    "??gen.flow_from_directory"
   ]
  },
  {
   "cell_type": "code",
   "execution_count": 21,
   "metadata": {
    "collapsed": false
   },
   "outputs": [
    {
     "name": "stdout",
     "output_type": "stream",
     "text": [
      "____________________________________________________________________________________________________\n",
      "Layer (type)                     Output Shape          Param #     Connected to                     \n",
      "====================================================================================================\n",
      "dense_input_2 (InputLayer)       (None, 2)             0                                            \n",
      "____________________________________________________________________________________________________\n",
      "dense_2 (Dense)                  (None, 1)             3           dense_input_2[0][0]              \n",
      "====================================================================================================\n",
      "Total params: 3\n",
      "Trainable params: 3\n",
      "Non-trainable params: 0\n",
      "____________________________________________________________________________________________________\n"
     ]
    }
   ],
   "source": [
    "lm.model.summary()"
   ]
  },
  {
   "cell_type": "code",
   "execution_count": 58,
   "metadata": {
    "collapsed": true
   },
   "outputs": [],
   "source": [
    "theano.config.floatX = 'float32'"
   ]
  },
  {
   "cell_type": "code",
   "execution_count": null,
   "metadata": {
    "collapsed": true
   },
   "outputs": [],
   "source": []
  }
 ],
 "metadata": {
  "kernelspec": {
   "display_name": "Python 2",
   "language": "python",
   "name": "python2"
  },
  "language_info": {
   "codemirror_mode": {
    "name": "ipython",
    "version": 2
   },
   "file_extension": ".py",
   "mimetype": "text/x-python",
   "name": "python",
   "nbconvert_exporter": "python",
   "pygments_lexer": "ipython2",
   "version": "2.7.13"
  }
 },
 "nbformat": 4,
 "nbformat_minor": 2
}
